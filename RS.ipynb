{
 "cells": [
  {
   "cell_type": "markdown",
   "id": "22076d61",
   "metadata": {},
   "source": [
    "## Importing libreries:"
   ]
  },
  {
   "cell_type": "code",
   "execution_count": 1,
   "id": "dfb2f57f",
   "metadata": {},
   "outputs": [],
   "source": [
    "import pandas as pd\n",
    "import numpy as np\n",
    "import statsmodels.api as sm\n",
    "import statsmodels.formula.api as smf\n",
    "import patsy\n",
    "\n",
    "from sklearn.model_selection import train_test_split\n",
    "from sklearn.linear_model import LinearRegression, Ridge #ordinary linear regression + w/ ridge regularization\n",
    "from sklearn.preprocessing import StandardScaler, PolynomialFeatures\n",
    "\n",
    "import seaborn as sns\n",
    "import matplotlib.pyplot as plt\n",
    "from sklearn.linear_model import RidgeCV\n",
    "get_ipython().run_line_magic('matplotlib', 'inline')\n",
    "\n",
    "from sklearn import preprocessing\n",
    "le = preprocessing.LabelEncoder()\n",
    "\n"
   ]
  },
  {
   "cell_type": "code",
   "execution_count": 2,
   "id": "a888586c",
   "metadata": {
    "scrolled": false
   },
   "outputs": [],
   "source": [
    "#df = pd.read_csv('/Users/reema/Desktop/ML/vehicles.csv')"
   ]
  },
  {
   "cell_type": "code",
   "execution_count": 3,
   "id": "f9234548",
   "metadata": {},
   "outputs": [],
   "source": [
    "df = pd.read_csv('/Users/soaadaljafr/Downloads/vehicles.csv')"
   ]
  },
  {
   "cell_type": "code",
   "execution_count": 4,
   "id": "37e41223",
   "metadata": {},
   "outputs": [],
   "source": [
    "#df.transmission.value_counts()"
   ]
  },
  {
   "cell_type": "markdown",
   "id": "f161df46",
   "metadata": {},
   "source": [
    "## EDA\n",
    "### Data Exploring:"
   ]
  },
  {
   "cell_type": "code",
   "execution_count": 5,
   "id": "f866804a",
   "metadata": {},
   "outputs": [
    {
     "name": "stdout",
     "output_type": "stream",
     "text": [
      "<class 'pandas.core.frame.DataFrame'>\n",
      "RangeIndex: 426880 entries, 0 to 426879\n",
      "Data columns (total 26 columns):\n",
      " #   Column        Non-Null Count   Dtype  \n",
      "---  ------        --------------   -----  \n",
      " 0   id            426880 non-null  int64  \n",
      " 1   url           426880 non-null  object \n",
      " 2   region        426880 non-null  object \n",
      " 3   region_url    426880 non-null  object \n",
      " 4   price         426880 non-null  int64  \n",
      " 5   year          425675 non-null  float64\n",
      " 6   manufacturer  409234 non-null  object \n",
      " 7   model         421603 non-null  object \n",
      " 8   condition     252776 non-null  object \n",
      " 9   cylinders     249202 non-null  object \n",
      " 10  fuel          423867 non-null  object \n",
      " 11  odometer      422480 non-null  float64\n",
      " 12  title_status  418638 non-null  object \n",
      " 13  transmission  424324 non-null  object \n",
      " 14  VIN           265838 non-null  object \n",
      " 15  drive         296313 non-null  object \n",
      " 16  size          120519 non-null  object \n",
      " 17  type          334022 non-null  object \n",
      " 18  paint_color   296677 non-null  object \n",
      " 19  image_url     426812 non-null  object \n",
      " 20  description   426810 non-null  object \n",
      " 21  county        0 non-null       float64\n",
      " 22  state         426880 non-null  object \n",
      " 23  lat           420331 non-null  float64\n",
      " 24  long          420331 non-null  float64\n",
      " 25  posting_date  426812 non-null  object \n",
      "dtypes: float64(5), int64(2), object(19)\n",
      "memory usage: 84.7+ MB\n"
     ]
    }
   ],
   "source": [
    "df.info()"
   ]
  },
  {
   "cell_type": "code",
   "execution_count": 6,
   "id": "7819b78f",
   "metadata": {},
   "outputs": [
    {
     "data": {
      "text/html": [
       "<div>\n",
       "<style scoped>\n",
       "    .dataframe tbody tr th:only-of-type {\n",
       "        vertical-align: middle;\n",
       "    }\n",
       "\n",
       "    .dataframe tbody tr th {\n",
       "        vertical-align: top;\n",
       "    }\n",
       "\n",
       "    .dataframe thead th {\n",
       "        text-align: right;\n",
       "    }\n",
       "</style>\n",
       "<table border=\"1\" class=\"dataframe\">\n",
       "  <thead>\n",
       "    <tr style=\"text-align: right;\">\n",
       "      <th></th>\n",
       "      <th>id</th>\n",
       "      <th>url</th>\n",
       "      <th>region</th>\n",
       "      <th>region_url</th>\n",
       "      <th>price</th>\n",
       "      <th>year</th>\n",
       "      <th>manufacturer</th>\n",
       "      <th>model</th>\n",
       "      <th>condition</th>\n",
       "      <th>cylinders</th>\n",
       "      <th>...</th>\n",
       "      <th>size</th>\n",
       "      <th>type</th>\n",
       "      <th>paint_color</th>\n",
       "      <th>image_url</th>\n",
       "      <th>description</th>\n",
       "      <th>county</th>\n",
       "      <th>state</th>\n",
       "      <th>lat</th>\n",
       "      <th>long</th>\n",
       "      <th>posting_date</th>\n",
       "    </tr>\n",
       "  </thead>\n",
       "  <tbody>\n",
       "    <tr>\n",
       "      <th>0</th>\n",
       "      <td>7222695916</td>\n",
       "      <td>https://prescott.craigslist.org/cto/d/prescott...</td>\n",
       "      <td>prescott</td>\n",
       "      <td>https://prescott.craigslist.org</td>\n",
       "      <td>6000</td>\n",
       "      <td>NaN</td>\n",
       "      <td>NaN</td>\n",
       "      <td>NaN</td>\n",
       "      <td>NaN</td>\n",
       "      <td>NaN</td>\n",
       "      <td>...</td>\n",
       "      <td>NaN</td>\n",
       "      <td>NaN</td>\n",
       "      <td>NaN</td>\n",
       "      <td>NaN</td>\n",
       "      <td>NaN</td>\n",
       "      <td>NaN</td>\n",
       "      <td>az</td>\n",
       "      <td>NaN</td>\n",
       "      <td>NaN</td>\n",
       "      <td>NaN</td>\n",
       "    </tr>\n",
       "    <tr>\n",
       "      <th>1</th>\n",
       "      <td>7218891961</td>\n",
       "      <td>https://fayar.craigslist.org/ctd/d/bentonville...</td>\n",
       "      <td>fayetteville</td>\n",
       "      <td>https://fayar.craigslist.org</td>\n",
       "      <td>11900</td>\n",
       "      <td>NaN</td>\n",
       "      <td>NaN</td>\n",
       "      <td>NaN</td>\n",
       "      <td>NaN</td>\n",
       "      <td>NaN</td>\n",
       "      <td>...</td>\n",
       "      <td>NaN</td>\n",
       "      <td>NaN</td>\n",
       "      <td>NaN</td>\n",
       "      <td>NaN</td>\n",
       "      <td>NaN</td>\n",
       "      <td>NaN</td>\n",
       "      <td>ar</td>\n",
       "      <td>NaN</td>\n",
       "      <td>NaN</td>\n",
       "      <td>NaN</td>\n",
       "    </tr>\n",
       "    <tr>\n",
       "      <th>2</th>\n",
       "      <td>7221797935</td>\n",
       "      <td>https://keys.craigslist.org/cto/d/summerland-k...</td>\n",
       "      <td>florida keys</td>\n",
       "      <td>https://keys.craigslist.org</td>\n",
       "      <td>21000</td>\n",
       "      <td>NaN</td>\n",
       "      <td>NaN</td>\n",
       "      <td>NaN</td>\n",
       "      <td>NaN</td>\n",
       "      <td>NaN</td>\n",
       "      <td>...</td>\n",
       "      <td>NaN</td>\n",
       "      <td>NaN</td>\n",
       "      <td>NaN</td>\n",
       "      <td>NaN</td>\n",
       "      <td>NaN</td>\n",
       "      <td>NaN</td>\n",
       "      <td>fl</td>\n",
       "      <td>NaN</td>\n",
       "      <td>NaN</td>\n",
       "      <td>NaN</td>\n",
       "    </tr>\n",
       "    <tr>\n",
       "      <th>3</th>\n",
       "      <td>7222270760</td>\n",
       "      <td>https://worcester.craigslist.org/cto/d/west-br...</td>\n",
       "      <td>worcester / central MA</td>\n",
       "      <td>https://worcester.craigslist.org</td>\n",
       "      <td>1500</td>\n",
       "      <td>NaN</td>\n",
       "      <td>NaN</td>\n",
       "      <td>NaN</td>\n",
       "      <td>NaN</td>\n",
       "      <td>NaN</td>\n",
       "      <td>...</td>\n",
       "      <td>NaN</td>\n",
       "      <td>NaN</td>\n",
       "      <td>NaN</td>\n",
       "      <td>NaN</td>\n",
       "      <td>NaN</td>\n",
       "      <td>NaN</td>\n",
       "      <td>ma</td>\n",
       "      <td>NaN</td>\n",
       "      <td>NaN</td>\n",
       "      <td>NaN</td>\n",
       "    </tr>\n",
       "    <tr>\n",
       "      <th>4</th>\n",
       "      <td>7210384030</td>\n",
       "      <td>https://greensboro.craigslist.org/cto/d/trinit...</td>\n",
       "      <td>greensboro</td>\n",
       "      <td>https://greensboro.craigslist.org</td>\n",
       "      <td>4900</td>\n",
       "      <td>NaN</td>\n",
       "      <td>NaN</td>\n",
       "      <td>NaN</td>\n",
       "      <td>NaN</td>\n",
       "      <td>NaN</td>\n",
       "      <td>...</td>\n",
       "      <td>NaN</td>\n",
       "      <td>NaN</td>\n",
       "      <td>NaN</td>\n",
       "      <td>NaN</td>\n",
       "      <td>NaN</td>\n",
       "      <td>NaN</td>\n",
       "      <td>nc</td>\n",
       "      <td>NaN</td>\n",
       "      <td>NaN</td>\n",
       "      <td>NaN</td>\n",
       "    </tr>\n",
       "  </tbody>\n",
       "</table>\n",
       "<p>5 rows × 26 columns</p>\n",
       "</div>"
      ],
      "text/plain": [
       "           id                                                url  \\\n",
       "0  7222695916  https://prescott.craigslist.org/cto/d/prescott...   \n",
       "1  7218891961  https://fayar.craigslist.org/ctd/d/bentonville...   \n",
       "2  7221797935  https://keys.craigslist.org/cto/d/summerland-k...   \n",
       "3  7222270760  https://worcester.craigslist.org/cto/d/west-br...   \n",
       "4  7210384030  https://greensboro.craigslist.org/cto/d/trinit...   \n",
       "\n",
       "                   region                         region_url  price  year  \\\n",
       "0                prescott    https://prescott.craigslist.org   6000   NaN   \n",
       "1            fayetteville       https://fayar.craigslist.org  11900   NaN   \n",
       "2            florida keys        https://keys.craigslist.org  21000   NaN   \n",
       "3  worcester / central MA   https://worcester.craigslist.org   1500   NaN   \n",
       "4              greensboro  https://greensboro.craigslist.org   4900   NaN   \n",
       "\n",
       "  manufacturer model condition cylinders  ... size  type paint_color  \\\n",
       "0          NaN   NaN       NaN       NaN  ...  NaN   NaN         NaN   \n",
       "1          NaN   NaN       NaN       NaN  ...  NaN   NaN         NaN   \n",
       "2          NaN   NaN       NaN       NaN  ...  NaN   NaN         NaN   \n",
       "3          NaN   NaN       NaN       NaN  ...  NaN   NaN         NaN   \n",
       "4          NaN   NaN       NaN       NaN  ...  NaN   NaN         NaN   \n",
       "\n",
       "  image_url description county state lat long posting_date  \n",
       "0       NaN         NaN    NaN    az NaN  NaN          NaN  \n",
       "1       NaN         NaN    NaN    ar NaN  NaN          NaN  \n",
       "2       NaN         NaN    NaN    fl NaN  NaN          NaN  \n",
       "3       NaN         NaN    NaN    ma NaN  NaN          NaN  \n",
       "4       NaN         NaN    NaN    nc NaN  NaN          NaN  \n",
       "\n",
       "[5 rows x 26 columns]"
      ]
     },
     "execution_count": 6,
     "metadata": {},
     "output_type": "execute_result"
    }
   ],
   "source": [
    "df.head()"
   ]
  },
  {
   "cell_type": "markdown",
   "id": "3c9071bb",
   "metadata": {},
   "source": [
    "## Data Cleaning:"
   ]
  },
  {
   "cell_type": "code",
   "execution_count": 7,
   "id": "8992595e",
   "metadata": {},
   "outputs": [],
   "source": [
    "def split_train_test(data, test_ratio):\n",
    "    shuffled_indices = np.random.permutation(len(data))\n",
    "    test_set_size = int(len(data) * test_ratio)\n",
    "    test_indices = shuffled_indices[:test_set_size]\n",
    "    train_indices = shuffled_indices[test_set_size:]\n",
    "    return data.iloc[train_indices], data.iloc[test_indices]"
   ]
  },
  {
   "cell_type": "code",
   "execution_count": 8,
   "id": "582ade69",
   "metadata": {
    "scrolled": true
   },
   "outputs": [
    {
     "data": {
      "text/html": [
       "<div>\n",
       "<style scoped>\n",
       "    .dataframe tbody tr th:only-of-type {\n",
       "        vertical-align: middle;\n",
       "    }\n",
       "\n",
       "    .dataframe tbody tr th {\n",
       "        vertical-align: top;\n",
       "    }\n",
       "\n",
       "    .dataframe thead th {\n",
       "        text-align: right;\n",
       "    }\n",
       "</style>\n",
       "<table border=\"1\" class=\"dataframe\">\n",
       "  <thead>\n",
       "    <tr style=\"text-align: right;\">\n",
       "      <th></th>\n",
       "      <th>id</th>\n",
       "      <th>url</th>\n",
       "      <th>region</th>\n",
       "      <th>region_url</th>\n",
       "      <th>price</th>\n",
       "      <th>year</th>\n",
       "      <th>manufacturer</th>\n",
       "      <th>model</th>\n",
       "      <th>condition</th>\n",
       "      <th>cylinders</th>\n",
       "      <th>...</th>\n",
       "      <th>size</th>\n",
       "      <th>type</th>\n",
       "      <th>paint_color</th>\n",
       "      <th>image_url</th>\n",
       "      <th>description</th>\n",
       "      <th>county</th>\n",
       "      <th>state</th>\n",
       "      <th>lat</th>\n",
       "      <th>long</th>\n",
       "      <th>posting_date</th>\n",
       "    </tr>\n",
       "  </thead>\n",
       "  <tbody>\n",
       "    <tr>\n",
       "      <th>323956</th>\n",
       "      <td>7316392177</td>\n",
       "      <td>https://portland.craigslist.org/clk/ctd/d/vanc...</td>\n",
       "      <td>portland</td>\n",
       "      <td>https://portland.craigslist.org</td>\n",
       "      <td>42996</td>\n",
       "      <td>2019.0</td>\n",
       "      <td>cadillac</td>\n",
       "      <td>xt4</td>\n",
       "      <td>NaN</td>\n",
       "      <td>NaN</td>\n",
       "      <td>...</td>\n",
       "      <td>NaN</td>\n",
       "      <td>NaN</td>\n",
       "      <td>NaN</td>\n",
       "      <td>https://images.craigslist.org/00p0p_dqtU24PjDG...</td>\n",
       "      <td>CARR Cadillac Buick GMC Vancouver address:    ...</td>\n",
       "      <td>NaN</td>\n",
       "      <td>or</td>\n",
       "      <td>45.645296</td>\n",
       "      <td>-122.603772</td>\n",
       "      <td>2021-05-03T13:00:46-0700</td>\n",
       "    </tr>\n",
       "    <tr>\n",
       "      <th>305867</th>\n",
       "      <td>7311707558</td>\n",
       "      <td>https://oklahomacity.craigslist.org/ctd/d/okla...</td>\n",
       "      <td>oklahoma city</td>\n",
       "      <td>https://oklahomacity.craigslist.org</td>\n",
       "      <td>0</td>\n",
       "      <td>2007.0</td>\n",
       "      <td>ford</td>\n",
       "      <td>f150</td>\n",
       "      <td>NaN</td>\n",
       "      <td>NaN</td>\n",
       "      <td>...</td>\n",
       "      <td>NaN</td>\n",
       "      <td>other</td>\n",
       "      <td>NaN</td>\n",
       "      <td>https://images.craigslist.org/00S0S_arkVQYlVzC...</td>\n",
       "      <td>2007 FORD F150 SUPERCREW     Offered by: Cars-...</td>\n",
       "      <td>NaN</td>\n",
       "      <td>ok</td>\n",
       "      <td>35.414450</td>\n",
       "      <td>-97.491710</td>\n",
       "      <td>2021-04-23T21:32:41-0500</td>\n",
       "    </tr>\n",
       "    <tr>\n",
       "      <th>347398</th>\n",
       "      <td>7313328718</td>\n",
       "      <td>https://greenville.craigslist.org/ctd/d/rock-h...</td>\n",
       "      <td>greenville / upstate</td>\n",
       "      <td>https://greenville.craigslist.org</td>\n",
       "      <td>4495</td>\n",
       "      <td>2008.0</td>\n",
       "      <td>saturn</td>\n",
       "      <td>astra</td>\n",
       "      <td>excellent</td>\n",
       "      <td>4 cylinders</td>\n",
       "      <td>...</td>\n",
       "      <td>compact</td>\n",
       "      <td>coupe</td>\n",
       "      <td>NaN</td>\n",
       "      <td>https://images.craigslist.org/01616_gnJBNrODqh...</td>\n",
       "      <td>2008 Saturn Astra Coupe   Ready To Upgrade You...</td>\n",
       "      <td>NaN</td>\n",
       "      <td>sc</td>\n",
       "      <td>34.952829</td>\n",
       "      <td>-80.998136</td>\n",
       "      <td>2021-04-27T11:17:14-0400</td>\n",
       "    </tr>\n",
       "    <tr>\n",
       "      <th>75628</th>\n",
       "      <td>7316812372</td>\n",
       "      <td>https://denver.craigslist.org/cto/d/strasburg-...</td>\n",
       "      <td>denver</td>\n",
       "      <td>https://denver.craigslist.org</td>\n",
       "      <td>6495</td>\n",
       "      <td>1986.0</td>\n",
       "      <td>chevrolet</td>\n",
       "      <td>k5 blazer</td>\n",
       "      <td>good</td>\n",
       "      <td>8 cylinders</td>\n",
       "      <td>...</td>\n",
       "      <td>full-size</td>\n",
       "      <td>SUV</td>\n",
       "      <td>green</td>\n",
       "      <td>https://images.craigslist.org/00i0i_82rYlxPw9e...</td>\n",
       "      <td>Are you ready for the Apocalypse?  You can be ...</td>\n",
       "      <td>NaN</td>\n",
       "      <td>co</td>\n",
       "      <td>39.698500</td>\n",
       "      <td>-104.201900</td>\n",
       "      <td>2021-05-04T11:27:36-0600</td>\n",
       "    </tr>\n",
       "    <tr>\n",
       "      <th>307728</th>\n",
       "      <td>7304786847</td>\n",
       "      <td>https://texoma.craigslist.org/ctd/d/ardmore-20...</td>\n",
       "      <td>texoma</td>\n",
       "      <td>https://texoma.craigslist.org</td>\n",
       "      <td>43700</td>\n",
       "      <td>2018.0</td>\n",
       "      <td>chevrolet</td>\n",
       "      <td>silverado 2500hd lt</td>\n",
       "      <td>excellent</td>\n",
       "      <td>8 cylinders</td>\n",
       "      <td>...</td>\n",
       "      <td>full-size</td>\n",
       "      <td>truck</td>\n",
       "      <td>white</td>\n",
       "      <td>https://images.craigslist.org/00T0T_kkWE6A7JIT...</td>\n",
       "      <td>2018 CHEVROLET SILVERADO 2500HD LT*WHITE*4X4*T...</td>\n",
       "      <td>NaN</td>\n",
       "      <td>ok</td>\n",
       "      <td>34.156600</td>\n",
       "      <td>-97.179200</td>\n",
       "      <td>2021-04-10T13:06:37-0500</td>\n",
       "    </tr>\n",
       "  </tbody>\n",
       "</table>\n",
       "<p>5 rows × 26 columns</p>\n",
       "</div>"
      ],
      "text/plain": [
       "                id                                                url  \\\n",
       "323956  7316392177  https://portland.craigslist.org/clk/ctd/d/vanc...   \n",
       "305867  7311707558  https://oklahomacity.craigslist.org/ctd/d/okla...   \n",
       "347398  7313328718  https://greenville.craigslist.org/ctd/d/rock-h...   \n",
       "75628   7316812372  https://denver.craigslist.org/cto/d/strasburg-...   \n",
       "307728  7304786847  https://texoma.craigslist.org/ctd/d/ardmore-20...   \n",
       "\n",
       "                      region                           region_url  price  \\\n",
       "323956              portland      https://portland.craigslist.org  42996   \n",
       "305867         oklahoma city  https://oklahomacity.craigslist.org      0   \n",
       "347398  greenville / upstate    https://greenville.craigslist.org   4495   \n",
       "75628                 denver        https://denver.craigslist.org   6495   \n",
       "307728                texoma        https://texoma.craigslist.org  43700   \n",
       "\n",
       "          year manufacturer                model  condition    cylinders  ...  \\\n",
       "323956  2019.0     cadillac                  xt4        NaN          NaN  ...   \n",
       "305867  2007.0         ford                 f150        NaN          NaN  ...   \n",
       "347398  2008.0       saturn                astra  excellent  4 cylinders  ...   \n",
       "75628   1986.0    chevrolet            k5 blazer       good  8 cylinders  ...   \n",
       "307728  2018.0    chevrolet  silverado 2500hd lt  excellent  8 cylinders  ...   \n",
       "\n",
       "             size   type paint_color  \\\n",
       "323956        NaN    NaN         NaN   \n",
       "305867        NaN  other         NaN   \n",
       "347398    compact  coupe         NaN   \n",
       "75628   full-size    SUV       green   \n",
       "307728  full-size  truck       white   \n",
       "\n",
       "                                                image_url  \\\n",
       "323956  https://images.craigslist.org/00p0p_dqtU24PjDG...   \n",
       "305867  https://images.craigslist.org/00S0S_arkVQYlVzC...   \n",
       "347398  https://images.craigslist.org/01616_gnJBNrODqh...   \n",
       "75628   https://images.craigslist.org/00i0i_82rYlxPw9e...   \n",
       "307728  https://images.craigslist.org/00T0T_kkWE6A7JIT...   \n",
       "\n",
       "                                              description county state  \\\n",
       "323956  CARR Cadillac Buick GMC Vancouver address:    ...    NaN    or   \n",
       "305867  2007 FORD F150 SUPERCREW     Offered by: Cars-...    NaN    ok   \n",
       "347398  2008 Saturn Astra Coupe   Ready To Upgrade You...    NaN    sc   \n",
       "75628   Are you ready for the Apocalypse?  You can be ...    NaN    co   \n",
       "307728  2018 CHEVROLET SILVERADO 2500HD LT*WHITE*4X4*T...    NaN    ok   \n",
       "\n",
       "              lat        long              posting_date  \n",
       "323956  45.645296 -122.603772  2021-05-03T13:00:46-0700  \n",
       "305867  35.414450  -97.491710  2021-04-23T21:32:41-0500  \n",
       "347398  34.952829  -80.998136  2021-04-27T11:17:14-0400  \n",
       "75628   39.698500 -104.201900  2021-05-04T11:27:36-0600  \n",
       "307728  34.156600  -97.179200  2021-04-10T13:06:37-0500  \n",
       "\n",
       "[5 rows x 26 columns]"
      ]
     },
     "execution_count": 8,
     "metadata": {},
     "output_type": "execute_result"
    }
   ],
   "source": [
    "seed=60\n",
    "df_train, df_test= train_test_split(df, test_size=0.2, random_state=seed)\n",
    "df_train, df_val= train_test_split(df_train, test_size=0.2, random_state=seed)\n",
    "df_train.head()"
   ]
  },
  {
   "cell_type": "code",
   "execution_count": 9,
   "id": "fd78c464",
   "metadata": {},
   "outputs": [
    {
     "name": "stdout",
     "output_type": "stream",
     "text": [
      "count    0.0\n",
      "mean     NaN\n",
      "std      NaN\n",
      "min      NaN\n",
      "25%      NaN\n",
      "50%      NaN\n",
      "75%      NaN\n",
      "max      NaN\n",
      "Name: county, dtype: float64\n",
      "count                                                273203\n",
      "unique                                               273203\n",
      "top       https://athensga.craigslist.org/ctd/d/bmw-x5-a...\n",
      "freq                                                      1\n",
      "Name: url, dtype: object\n",
      "count                           273203\n",
      "unique                             413\n",
      "top       https://omaha.craigslist.org\n",
      "freq                              1974\n",
      "Name: region_url, dtype: object\n",
      "count                                                273156\n",
      "unique                                               170404\n",
      "top       https://images.craigslist.org/00N0N_1xMPvfxRAI...\n",
      "freq                                                   4673\n",
      "Name: image_url, dtype: object\n",
      "count                                                273155\n",
      "unique                                               238563\n",
      "top       35 VEHICLES PRICED UNDER $3000!!!  BIG TIME! T...\n",
      "freq                                                    138\n",
      "Name: description, dtype: object\n",
      "count    2.732030e+05\n",
      "mean     7.311492e+09\n",
      "std      4.483546e+06\n",
      "min      7.207408e+09\n",
      "25%      7.308149e+09\n",
      "50%      7.312664e+09\n",
      "75%      7.315257e+09\n",
      "max      7.317098e+09\n",
      "Name: id, dtype: float64\n",
      "count                170226\n",
      "unique                87573\n",
      "top       1FMJU1JT1HEA52352\n",
      "freq                    157\n",
      "Name: VIN, dtype: object\n"
     ]
    }
   ],
   "source": [
    "print(df_train['county'].describe())\n",
    "print(df_train['url'].describe())\n",
    "print(df_train['region_url'].describe())\n",
    "print(df_train['image_url'].describe())\n",
    "print(df_train['description'].describe())\n",
    "print(df_train['id'].describe())\n",
    "print(df_train['VIN'].describe())"
   ]
  },
  {
   "cell_type": "code",
   "execution_count": 10,
   "id": "0e34fbc1",
   "metadata": {},
   "outputs": [],
   "source": [
    "df_train.drop(['county','url','region_url','image_url','description','id','VIN'],axis=1, inplace=True)\n",
    "\n",
    "df_val.drop(['county','url','region_url','image_url','description','id','VIN'],axis=1, inplace=True)"
   ]
  },
  {
   "cell_type": "code",
   "execution_count": 11,
   "id": "194d7517",
   "metadata": {},
   "outputs": [
    {
     "data": {
      "text/plain": [
       "region               0\n",
       "price                0\n",
       "year               765\n",
       "manufacturer     11230\n",
       "model             3327\n",
       "condition       111671\n",
       "cylinders       114088\n",
       "fuel              1930\n",
       "odometer          2819\n",
       "title_status      5267\n",
       "transmission      1623\n",
       "drive            83704\n",
       "size            196077\n",
       "type             59575\n",
       "paint_color      83531\n",
       "state                0\n",
       "lat               4222\n",
       "long              4222\n",
       "posting_date        47\n",
       "dtype: int64"
      ]
     },
     "execution_count": 11,
     "metadata": {},
     "output_type": "execute_result"
    }
   ],
   "source": [
    "df_train.isna().sum()"
   ]
  },
  {
   "cell_type": "code",
   "execution_count": 12,
   "id": "aa32231a",
   "metadata": {},
   "outputs": [
    {
     "data": {
      "text/plain": [
       "region              0\n",
       "price               0\n",
       "year              212\n",
       "manufacturer     2862\n",
       "model             835\n",
       "condition       27847\n",
       "cylinders       28377\n",
       "fuel              437\n",
       "odometer          691\n",
       "title_status     1259\n",
       "transmission      397\n",
       "drive           20925\n",
       "size            48971\n",
       "type            14830\n",
       "paint_color     20627\n",
       "state               0\n",
       "lat              1021\n",
       "long             1021\n",
       "posting_date       10\n",
       "dtype: int64"
      ]
     },
     "execution_count": 12,
     "metadata": {},
     "output_type": "execute_result"
    }
   ],
   "source": [
    "df_val.isna().sum()"
   ]
  },
  {
   "cell_type": "code",
   "execution_count": 13,
   "id": "35f1ae18",
   "metadata": {},
   "outputs": [],
   "source": [
    "df_train.dropna(subset = [\"year\"], inplace=True)"
   ]
  },
  {
   "cell_type": "code",
   "execution_count": 14,
   "id": "83233282",
   "metadata": {},
   "outputs": [],
   "source": [
    "df_val.dropna(subset = [\"year\"], inplace=True)"
   ]
  },
  {
   "cell_type": "code",
   "execution_count": 15,
   "id": "7f647303",
   "metadata": {},
   "outputs": [],
   "source": [
    "df_train.dropna(subset = [\"manufacturer\"], inplace=True)"
   ]
  },
  {
   "cell_type": "code",
   "execution_count": 16,
   "id": "96a5b168",
   "metadata": {},
   "outputs": [],
   "source": [
    "df_val.dropna(subset = [\"manufacturer\"], inplace=True)"
   ]
  },
  {
   "cell_type": "code",
   "execution_count": 17,
   "id": "e5daddf9",
   "metadata": {},
   "outputs": [],
   "source": [
    "df_train['manufacturer'] = df_train['manufacturer'].replace(['lincoln','volvo','mitsubishi','mini','pontiac','rover','jaguar','porsche','mercury','saturn','alfa-romeo','tesla','fiat','harley-davidson','ferrari','datsun','aston-martin','land rover','morgan'],\"other\");"
   ]
  },
  {
   "cell_type": "code",
   "execution_count": 18,
   "id": "ddff3042",
   "metadata": {},
   "outputs": [],
   "source": [
    "df_val['manufacturer'] = df_val['manufacturer'].replace(['lincoln','volvo','mitsubishi','mini','pontiac','rover','jaguar','porsche','mercury','saturn','alfa-romeo','tesla','fiat','harley-davidson','ferrari','datsun','aston-martin','land rover','morgan'],\"other\");"
   ]
  },
  {
   "cell_type": "code",
   "execution_count": 19,
   "id": "f91fd30b",
   "metadata": {},
   "outputs": [],
   "source": [
    "df_train.model.fillna('other',inplace=True)"
   ]
  },
  {
   "cell_type": "code",
   "execution_count": 20,
   "id": "8a1a3246",
   "metadata": {},
   "outputs": [],
   "source": [
    "df_val.model.fillna('other',inplace=True)"
   ]
  },
  {
   "cell_type": "code",
   "execution_count": 21,
   "id": "8b26b23a",
   "metadata": {},
   "outputs": [],
   "source": [
    "df_train.condition.fillna('good',inplace=True)"
   ]
  },
  {
   "cell_type": "code",
   "execution_count": 22,
   "id": "25900437",
   "metadata": {},
   "outputs": [],
   "source": [
    "df_val.condition.fillna('good',inplace=True)"
   ]
  },
  {
   "cell_type": "code",
   "execution_count": 23,
   "id": "bda0cb85",
   "metadata": {},
   "outputs": [],
   "source": [
    "condition = df_train[[\"condition\"]]"
   ]
  },
  {
   "cell_type": "code",
   "execution_count": 24,
   "id": "986d6f29",
   "metadata": {},
   "outputs": [],
   "source": [
    "condition = df_val[[\"condition\"]]"
   ]
  },
  {
   "cell_type": "code",
   "execution_count": 25,
   "id": "fc7d5b0a",
   "metadata": {
    "scrolled": true
   },
   "outputs": [
    {
     "data": {
      "text/plain": [
       "array([[2.],\n",
       "       [2.],\n",
       "       [2.],\n",
       "       [0.],\n",
       "       [2.],\n",
       "       [0.],\n",
       "       [0.],\n",
       "       [2.],\n",
       "       [2.],\n",
       "       [2.],\n",
       "       [0.],\n",
       "       [2.],\n",
       "       [2.],\n",
       "       [2.],\n",
       "       [2.],\n",
       "       [0.],\n",
       "       [0.],\n",
       "       [2.],\n",
       "       [2.],\n",
       "       [2.]])"
      ]
     },
     "execution_count": 25,
     "metadata": {},
     "output_type": "execute_result"
    }
   ],
   "source": [
    "from sklearn.preprocessing import OrdinalEncoder\n",
    "\n",
    "ordinal_encoder = OrdinalEncoder()\n",
    "condition_encoded= ordinal_encoder.fit_transform(condition)\n",
    "condition_encoded[:20]"
   ]
  },
  {
   "cell_type": "code",
   "execution_count": 26,
   "id": "156f0e42",
   "metadata": {},
   "outputs": [
    {
     "data": {
      "text/plain": [
       "pandas.core.series.Series"
      ]
     },
     "execution_count": 26,
     "metadata": {},
     "output_type": "execute_result"
    }
   ],
   "source": [
    "type(df_train['condition'])"
   ]
  },
  {
   "cell_type": "code",
   "execution_count": 27,
   "id": "1dca7dec",
   "metadata": {},
   "outputs": [
    {
     "data": {
      "text/plain": [
       "pandas.core.series.Series"
      ]
     },
     "execution_count": 27,
     "metadata": {},
     "output_type": "execute_result"
    }
   ],
   "source": [
    "type(df_val['condition'])"
   ]
  },
  {
   "cell_type": "code",
   "execution_count": 28,
   "id": "c1c96fa5",
   "metadata": {},
   "outputs": [],
   "source": [
    "df_train['cylinders'] = df_train['cylinders'].replace(['other','oth'],\"6 cylinders\");"
   ]
  },
  {
   "cell_type": "code",
   "execution_count": 29,
   "id": "34bc9889",
   "metadata": {},
   "outputs": [],
   "source": [
    "df_train['cylinders'] = df_train.cylinders.str.strip(' cylinders')"
   ]
  },
  {
   "cell_type": "code",
   "execution_count": 30,
   "id": "10afd9df",
   "metadata": {},
   "outputs": [],
   "source": [
    "df_train.cylinders.fillna('6',inplace=True)"
   ]
  },
  {
   "cell_type": "code",
   "execution_count": 31,
   "id": "72f90919",
   "metadata": {},
   "outputs": [],
   "source": [
    "df_train['cylinders']= df_train['cylinders'].astype(int)"
   ]
  },
  {
   "cell_type": "code",
   "execution_count": 32,
   "id": "96ebb622",
   "metadata": {},
   "outputs": [],
   "source": [
    "df_val['cylinders'] = df_val['cylinders'].replace(['other','oth'],\"6 cylinders\");\n",
    "\n",
    "df_val['cylinders'] = df_val.cylinders.str.strip(' cylinders')\n",
    "\n",
    "df_val.cylinders.fillna('6',inplace=True)\n",
    "\n",
    "df_val['cylinders']= df_val['cylinders'].astype(int)"
   ]
  },
  {
   "cell_type": "code",
   "execution_count": 33,
   "id": "32232f54",
   "metadata": {},
   "outputs": [
    {
     "data": {
      "text/plain": [
       "gas         220495\n",
       "other        18765\n",
       "diesel       16768\n",
       "hybrid        3298\n",
       "electric      1020\n",
       "Name: fuel, dtype: int64"
      ]
     },
     "execution_count": 33,
     "metadata": {},
     "output_type": "execute_result"
    }
   ],
   "source": [
    "df_train.fuel.value_counts() "
   ]
  },
  {
   "cell_type": "code",
   "execution_count": 34,
   "id": "fe1311d2",
   "metadata": {},
   "outputs": [],
   "source": [
    "df_train.fuel.fillna(df_train.fuel.mode ,inplace=True)"
   ]
  },
  {
   "cell_type": "code",
   "execution_count": 35,
   "id": "1aa9f629",
   "metadata": {},
   "outputs": [],
   "source": [
    "df_val.fuel.fillna(df_train.fuel.mode ,inplace=True)"
   ]
  },
  {
   "cell_type": "code",
   "execution_count": 36,
   "id": "83248a0c",
   "metadata": {},
   "outputs": [],
   "source": [
    "df_val.dropna(subset = [\"odometer\"], inplace=True)"
   ]
  },
  {
   "cell_type": "code",
   "execution_count": 37,
   "id": "29275ac8",
   "metadata": {},
   "outputs": [],
   "source": [
    "df_train.dropna(subset = [\"odometer\"], inplace=True)"
   ]
  },
  {
   "cell_type": "code",
   "execution_count": 38,
   "id": "8465d59a",
   "metadata": {},
   "outputs": [],
   "source": [
    "df_train.title_status.fillna('clean',inplace=True)"
   ]
  },
  {
   "cell_type": "code",
   "execution_count": 39,
   "id": "700b1bd7",
   "metadata": {},
   "outputs": [],
   "source": [
    "df_val.title_status.fillna('clean',inplace=True)"
   ]
  },
  {
   "cell_type": "code",
   "execution_count": 40,
   "id": "0b7700fe",
   "metadata": {},
   "outputs": [],
   "source": [
    "title_status = df_train[[\"title_status\"]]"
   ]
  },
  {
   "cell_type": "code",
   "execution_count": 41,
   "id": "8925416c",
   "metadata": {},
   "outputs": [],
   "source": [
    "title_status = df_val[[\"title_status\"]]"
   ]
  },
  {
   "cell_type": "code",
   "execution_count": 42,
   "id": "6721cb2c",
   "metadata": {},
   "outputs": [
    {
     "data": {
      "text/plain": [
       "array([[0.],\n",
       "       [0.],\n",
       "       [0.],\n",
       "       [0.],\n",
       "       [0.],\n",
       "       [0.],\n",
       "       [0.],\n",
       "       [0.],\n",
       "       [0.],\n",
       "       [0.]])"
      ]
     },
     "execution_count": 42,
     "metadata": {},
     "output_type": "execute_result"
    }
   ],
   "source": [
    "from sklearn.preprocessing import OrdinalEncoder\n",
    "\n",
    "ordinal_encoder = OrdinalEncoder()\n",
    "title_status_encoded= ordinal_encoder.fit_transform(title_status)\n",
    "\n",
    "title_status_encoded[:10]"
   ]
  },
  {
   "cell_type": "code",
   "execution_count": 43,
   "id": "fc389d61",
   "metadata": {},
   "outputs": [
    {
     "data": {
      "text/plain": [
       "pandas.core.series.Series"
      ]
     },
     "execution_count": 43,
     "metadata": {},
     "output_type": "execute_result"
    }
   ],
   "source": [
    "type(df_train['title_status'])"
   ]
  },
  {
   "cell_type": "code",
   "execution_count": 44,
   "id": "2a2ffef6",
   "metadata": {},
   "outputs": [
    {
     "data": {
      "text/plain": [
       "1031"
      ]
     },
     "execution_count": 44,
     "metadata": {},
     "output_type": "execute_result"
    }
   ],
   "source": [
    "df_train['transmission'].isna().sum()"
   ]
  },
  {
   "cell_type": "code",
   "execution_count": 45,
   "id": "eefef750",
   "metadata": {},
   "outputs": [],
   "source": [
    "#df_train['transmission'] = df_train['transmission'].replace(['other'],\"automatic\");"
   ]
  },
  {
   "cell_type": "code",
   "execution_count": 46,
   "id": "643dadc1",
   "metadata": {},
   "outputs": [],
   "source": [
    "#df_val['transmission'] = df_train['transmission'].replace(['other'],\"automatic\");"
   ]
  },
  {
   "cell_type": "code",
   "execution_count": 47,
   "id": "d34ed2f6",
   "metadata": {},
   "outputs": [
    {
     "data": {
      "text/plain": [
       "automatic    205630\n",
       "other         38482\n",
       "manual        14168\n",
       "Name: transmission, dtype: int64"
      ]
     },
     "execution_count": 47,
     "metadata": {},
     "output_type": "execute_result"
    }
   ],
   "source": [
    "df_train.transmission.value_counts()"
   ]
  },
  {
   "cell_type": "code",
   "execution_count": 48,
   "id": "be3d396c",
   "metadata": {},
   "outputs": [],
   "source": [
    "df_train.transmission.fillna(df_train.transmission.mode ,inplace=True)"
   ]
  },
  {
   "cell_type": "code",
   "execution_count": 49,
   "id": "e9496c44",
   "metadata": {},
   "outputs": [],
   "source": [
    "df_val.transmission.fillna(df_train.transmission.mode ,inplace=True)"
   ]
  },
  {
   "cell_type": "code",
   "execution_count": 50,
   "id": "d357536f",
   "metadata": {},
   "outputs": [
    {
     "data": {
      "text/plain": [
       "146962    automatic\n",
       "149991    automatic\n",
       "363091    automatic\n",
       "250724    automatic\n",
       "214568        other\n",
       "Name: transmission, dtype: object"
      ]
     },
     "execution_count": 50,
     "metadata": {},
     "output_type": "execute_result"
    }
   ],
   "source": [
    "df_train.transmission.sample(5)"
   ]
  },
  {
   "cell_type": "code",
   "execution_count": 51,
   "id": "223d565d",
   "metadata": {},
   "outputs": [],
   "source": [
    "df_train.drive.fillna('other',inplace=True)"
   ]
  },
  {
   "cell_type": "code",
   "execution_count": 52,
   "id": "2f51f15c",
   "metadata": {},
   "outputs": [],
   "source": [
    "df_val.drive.fillna('other',inplace=True)"
   ]
  },
  {
   "cell_type": "code",
   "execution_count": 53,
   "id": "41df5806",
   "metadata": {},
   "outputs": [],
   "source": [
    "df_train.dropna(subset = [\"paint_color\"], inplace=True)"
   ]
  },
  {
   "cell_type": "code",
   "execution_count": 54,
   "id": "6f67e571",
   "metadata": {},
   "outputs": [],
   "source": [
    "df_val.dropna(subset = [\"paint_color\"], inplace=True)"
   ]
  },
  {
   "cell_type": "code",
   "execution_count": 55,
   "id": "bdad146a",
   "metadata": {},
   "outputs": [],
   "source": [
    "df_train.type.fillna('other',inplace=True)"
   ]
  },
  {
   "cell_type": "code",
   "execution_count": 56,
   "id": "d370db43",
   "metadata": {},
   "outputs": [],
   "source": [
    "df_val.type.fillna('other',inplace=True)"
   ]
  },
  {
   "cell_type": "code",
   "execution_count": 57,
   "id": "8b03413a",
   "metadata": {},
   "outputs": [],
   "source": [
    "df_train['size'].fillna('other',inplace=True)"
   ]
  },
  {
   "cell_type": "code",
   "execution_count": 58,
   "id": "8135b5f4",
   "metadata": {},
   "outputs": [],
   "source": [
    "df_val['size'].fillna('other',inplace=True)"
   ]
  },
  {
   "cell_type": "code",
   "execution_count": 59,
   "id": "2d59f434",
   "metadata": {},
   "outputs": [],
   "source": [
    "df_train.lat.fillna(45.645296,inplace=True)"
   ]
  },
  {
   "cell_type": "code",
   "execution_count": 60,
   "id": "3aeb9101",
   "metadata": {},
   "outputs": [],
   "source": [
    "df_val.lat.fillna(45.645296,inplace=True)"
   ]
  },
  {
   "cell_type": "code",
   "execution_count": 61,
   "id": "50a669fa",
   "metadata": {},
   "outputs": [],
   "source": [
    "df_train.long.fillna(35.414450,inplace=True)"
   ]
  },
  {
   "cell_type": "code",
   "execution_count": 62,
   "id": "dc1d3d68",
   "metadata": {},
   "outputs": [],
   "source": [
    "df_val.long.fillna(35.414450,inplace=True)"
   ]
  },
  {
   "cell_type": "code",
   "execution_count": 63,
   "id": "43a306da",
   "metadata": {},
   "outputs": [],
   "source": [
    "#df_train[['transmission','condition','title_status']] = df_train[['transmission','condition','title_status']].apply(le.fit_transform)\n"
   ]
  },
  {
   "cell_type": "code",
   "execution_count": 64,
   "id": "13cdeb67",
   "metadata": {},
   "outputs": [],
   "source": [
    "#df_val[['transmission','condition','title_status']] = df_val[['transmission','condition','title_status']].apply(le.fit_transform)\n"
   ]
  },
  {
   "cell_type": "code",
   "execution_count": 65,
   "id": "ed5b10ac",
   "metadata": {},
   "outputs": [],
   "source": [
    "#feul = df_train[[\"fuel\"]]"
   ]
  },
  {
   "cell_type": "code",
   "execution_count": 66,
   "id": "0f67c37e",
   "metadata": {},
   "outputs": [],
   "source": [
    "#feul1 = df_val[[\"fuel\"]]"
   ]
  },
  {
   "cell_type": "code",
   "execution_count": 67,
   "id": "e32e79c5",
   "metadata": {},
   "outputs": [],
   "source": [
    "#feul = feul.apply(lambda col: le.fit_transform(col.astype(int)), axis=0, result_type='expand')"
   ]
  },
  {
   "cell_type": "code",
   "execution_count": 68,
   "id": "6e918844",
   "metadata": {},
   "outputs": [],
   "source": [
    "#feul1 = feul1.apply(lambda col: le.fit_transform(col.astype(int)), axis=0, result_type='expand')"
   ]
  },
  {
   "cell_type": "code",
   "execution_count": 69,
   "id": "01fbf059",
   "metadata": {},
   "outputs": [],
   "source": [
    "#df_train[[\"fuel\"]] = df_train[[\"fuel\"]].apply(le.fit_transform)\n",
    "\n",
    "\n"
   ]
  },
  {
   "cell_type": "code",
   "execution_count": 70,
   "id": "409f0efb",
   "metadata": {},
   "outputs": [],
   "source": [
    "#df_val = df_val.apply(lambda col: le.fit_transform(col.astype(str)), axis=0, result_type='expand')"
   ]
  },
  {
   "cell_type": "code",
   "execution_count": 71,
   "id": "399b416e",
   "metadata": {},
   "outputs": [],
   "source": [
    "#df_val[[\"fuel\"]] = df_val[[\"fuel\"]].apply(le.fit_transform)\n",
    "\n"
   ]
  },
  {
   "cell_type": "code",
   "execution_count": 72,
   "id": "c821c8d2",
   "metadata": {},
   "outputs": [],
   "source": [
    "df_train = df_train.apply(lambda col: le.fit_transform(col.astype(str)), axis=0, result_type='expand')"
   ]
  },
  {
   "cell_type": "code",
   "execution_count": 73,
   "id": "0fc7c32f",
   "metadata": {},
   "outputs": [],
   "source": [
    "df_val = df_val.apply(lambda col: le.fit_transform(col.astype(str)), axis=0, result_type='expand')"
   ]
  },
  {
   "cell_type": "code",
   "execution_count": 74,
   "id": "831c820a",
   "metadata": {},
   "outputs": [
    {
     "data": {
      "text/plain": [
       "region          0\n",
       "price           0\n",
       "year            0\n",
       "manufacturer    0\n",
       "model           0\n",
       "condition       0\n",
       "cylinders       0\n",
       "fuel            0\n",
       "odometer        0\n",
       "title_status    0\n",
       "transmission    0\n",
       "drive           0\n",
       "size            0\n",
       "type            0\n",
       "paint_color     0\n",
       "state           0\n",
       "lat             0\n",
       "long            0\n",
       "posting_date    0\n",
       "dtype: int64"
      ]
     },
     "execution_count": 74,
     "metadata": {},
     "output_type": "execute_result"
    }
   ],
   "source": [
    "df_train.isna().sum()"
   ]
  },
  {
   "cell_type": "code",
   "execution_count": 75,
   "id": "f7538d31",
   "metadata": {},
   "outputs": [
    {
     "data": {
      "text/plain": [
       "region          0\n",
       "price           0\n",
       "year            0\n",
       "manufacturer    0\n",
       "model           0\n",
       "condition       0\n",
       "cylinders       0\n",
       "fuel            0\n",
       "odometer        0\n",
       "title_status    0\n",
       "transmission    0\n",
       "drive           0\n",
       "size            0\n",
       "type            0\n",
       "paint_color     0\n",
       "state           0\n",
       "lat             0\n",
       "long            0\n",
       "posting_date    0\n",
       "dtype: int64"
      ]
     },
     "execution_count": 75,
     "metadata": {},
     "output_type": "execute_result"
    }
   ],
   "source": [
    "df_val.isna().sum()"
   ]
  },
  {
   "cell_type": "code",
   "execution_count": 76,
   "id": "70f402c2",
   "metadata": {
    "scrolled": true
   },
   "outputs": [
    {
     "name": "stdout",
     "output_type": "stream",
     "text": [
      "<class 'pandas.core.frame.DataFrame'>\n",
      "Int64Index: 180809 entries, 75628 to 84716\n",
      "Data columns (total 19 columns):\n",
      " #   Column        Non-Null Count   Dtype\n",
      "---  ------        --------------   -----\n",
      " 0   region        180809 non-null  int64\n",
      " 1   price         180809 non-null  int64\n",
      " 2   year          180809 non-null  int64\n",
      " 3   manufacturer  180809 non-null  int64\n",
      " 4   model         180809 non-null  int64\n",
      " 5   condition     180809 non-null  int64\n",
      " 6   cylinders     180809 non-null  int64\n",
      " 7   fuel          180809 non-null  int64\n",
      " 8   odometer      180809 non-null  int64\n",
      " 9   title_status  180809 non-null  int64\n",
      " 10  transmission  180809 non-null  int64\n",
      " 11  drive         180809 non-null  int64\n",
      " 12  size          180809 non-null  int64\n",
      " 13  type          180809 non-null  int64\n",
      " 14  paint_color   180809 non-null  int64\n",
      " 15  state         180809 non-null  int64\n",
      " 16  lat           180809 non-null  int64\n",
      " 17  long          180809 non-null  int64\n",
      " 18  posting_date  180809 non-null  int64\n",
      "dtypes: int64(19)\n",
      "memory usage: 27.6 MB\n"
     ]
    }
   ],
   "source": [
    "df_train.info()"
   ]
  },
  {
   "cell_type": "code",
   "execution_count": 77,
   "id": "999a6cb6",
   "metadata": {},
   "outputs": [
    {
     "name": "stdout",
     "output_type": "stream",
     "text": [
      "<class 'pandas.core.frame.DataFrame'>\n",
      "Int64Index: 45474 entries, 216319 to 259661\n",
      "Data columns (total 19 columns):\n",
      " #   Column        Non-Null Count  Dtype\n",
      "---  ------        --------------  -----\n",
      " 0   region        45474 non-null  int64\n",
      " 1   price         45474 non-null  int64\n",
      " 2   year          45474 non-null  int64\n",
      " 3   manufacturer  45474 non-null  int64\n",
      " 4   model         45474 non-null  int64\n",
      " 5   condition     45474 non-null  int64\n",
      " 6   cylinders     45474 non-null  int64\n",
      " 7   fuel          45474 non-null  int64\n",
      " 8   odometer      45474 non-null  int64\n",
      " 9   title_status  45474 non-null  int64\n",
      " 10  transmission  45474 non-null  int64\n",
      " 11  drive         45474 non-null  int64\n",
      " 12  size          45474 non-null  int64\n",
      " 13  type          45474 non-null  int64\n",
      " 14  paint_color   45474 non-null  int64\n",
      " 15  state         45474 non-null  int64\n",
      " 16  lat           45474 non-null  int64\n",
      " 17  long          45474 non-null  int64\n",
      " 18  posting_date  45474 non-null  int64\n",
      "dtypes: int64(19)\n",
      "memory usage: 6.9 MB\n"
     ]
    }
   ],
   "source": [
    "df_val.info()"
   ]
  },
  {
   "cell_type": "markdown",
   "id": "a139ae1b",
   "metadata": {},
   "source": [
    "## Data Analysis and Visulizations:"
   ]
  },
  {
   "cell_type": "code",
   "execution_count": null,
   "id": "db88ea5d",
   "metadata": {},
   "outputs": [],
   "source": [
    "plt.figure(figsize=(15,10))\n",
    "sns.heatmap(df_train.corr(), cmap=\"seismic\", annot=True, vmin=-1, vmax=1);"
   ]
  },
  {
   "cell_type": "code",
   "execution_count": null,
   "id": "e2041223",
   "metadata": {},
   "outputs": [],
   "source": [
    "plt.figure(figsize=(15,10))\n",
    "sns.heatmap(df_val.corr(), cmap=\"seismic\", annot=True, vmin=-1, vmax=1);"
   ]
  },
  {
   "cell_type": "code",
   "execution_count": null,
   "id": "14f22004",
   "metadata": {},
   "outputs": [],
   "source": [
    "#sns.pairplot(df_train, height=1.2, aspect=1.5);"
   ]
  },
  {
   "cell_type": "code",
   "execution_count": null,
   "id": "395fa472",
   "metadata": {},
   "outputs": [],
   "source": [
    "#sns.pairplot(df_val, height=1.2, aspect=1.5);"
   ]
  },
  {
   "cell_type": "code",
   "execution_count": null,
   "id": "0b385620",
   "metadata": {},
   "outputs": [],
   "source": [
    "y = df_train['price']\n",
    "x = df_train['year']\n",
    "plt.scatter(x, y)\n",
    "plt.xlabel('year')\n",
    "plt.ylabel('price')\n",
    "plt.show()"
   ]
  },
  {
   "cell_type": "code",
   "execution_count": null,
   "id": "857acbd5",
   "metadata": {},
   "outputs": [],
   "source": [
    "y = df_train['price']\n",
    "x = df_train['odometer']\n",
    "plt.scatter(x, y)\n",
    "plt.xlabel('odometer')\n",
    "plt.ylabel('price')\n",
    "plt.show()"
   ]
  },
  {
   "cell_type": "code",
   "execution_count": null,
   "id": "59ac163a",
   "metadata": {},
   "outputs": [],
   "source": [
    "sns.catplot(x=\"drive\", y=\"price\",kind=\"bar\", data=df_train,ci=True);"
   ]
  },
  {
   "cell_type": "code",
   "execution_count": null,
   "id": "d6b14576",
   "metadata": {},
   "outputs": [],
   "source": [
    "plt.figimage(20,20)\n",
    "sns.catplot(x=\"manufacturer\", y=\"price\",kind=\"bar\", data=df_train,ci=True);"
   ]
  },
  {
   "cell_type": "markdown",
   "id": "d3011cb5",
   "metadata": {},
   "source": [
    "## Feature Engineering:\n",
    "\n",
    "Convert features to Dummy variables:"
   ]
  },
  {
   "cell_type": "code",
   "execution_count": null,
   "id": "264b9aa0",
   "metadata": {},
   "outputs": [],
   "source": [
    "plt.figure(figsize=(12,10))\n",
    "cor = df_train.corr()\n",
    "sns.heatmap(cor, annot=True, cmap=plt.cm.Reds)\n",
    "plt.show()"
   ]
  },
  {
   "cell_type": "code",
   "execution_count": null,
   "id": "aeca3ccb",
   "metadata": {},
   "outputs": [],
   "source": [
    "#from sklearn.preprocessing import MinMaxScaler\n",
    "#df_train[\"odometer\"] = np.sqrt(preprocessing.minmax_scale(df_train[\"odometer\"]))"
   ]
  },
  {
   "cell_type": "code",
   "execution_count": 79,
   "id": "48674871",
   "metadata": {},
   "outputs": [],
   "source": [
    "df1 = df_train.select_dtypes(exclude=['object']).copy()\n",
    "df_obj_1=df_train.loc[:,['fuel','size','transmission','condition','title_status','paint_color']]\n",
    "#df_obj_2= df_train.loc[:,['fuel','transmission','paint_color']],\n",
    "#df_obj_3= df_train.loc[:,['model']]"
   ]
  },
  {
   "cell_type": "code",
   "execution_count": 80,
   "id": "2ad4ecbb",
   "metadata": {},
   "outputs": [],
   "source": [
    "df_v = df_val.select_dtypes(exclude=['object']).copy()\n",
    "df_obj_v=df_val.loc[:,['fuel','size','transmission','condition','title_status','paint_color']]\n",
    "#df_obj_2= df_train.loc[:,['fuel','transmission','paint_color']],\n",
    "#df_obj_3= df_train.loc[:,['model']]"
   ]
  },
  {
   "cell_type": "code",
   "execution_count": 81,
   "id": "db4fa2c1",
   "metadata": {},
   "outputs": [
    {
     "data": {
      "text/html": [
       "<div>\n",
       "<style scoped>\n",
       "    .dataframe tbody tr th:only-of-type {\n",
       "        vertical-align: middle;\n",
       "    }\n",
       "\n",
       "    .dataframe tbody tr th {\n",
       "        vertical-align: top;\n",
       "    }\n",
       "\n",
       "    .dataframe thead th {\n",
       "        text-align: right;\n",
       "    }\n",
       "</style>\n",
       "<table border=\"1\" class=\"dataframe\">\n",
       "  <thead>\n",
       "    <tr style=\"text-align: right;\">\n",
       "      <th></th>\n",
       "      <th>region</th>\n",
       "      <th>price</th>\n",
       "      <th>year</th>\n",
       "      <th>manufacturer</th>\n",
       "      <th>model</th>\n",
       "      <th>condition</th>\n",
       "      <th>cylinders</th>\n",
       "      <th>fuel</th>\n",
       "      <th>odometer</th>\n",
       "      <th>title_status</th>\n",
       "      <th>...</th>\n",
       "      <th>state</th>\n",
       "      <th>lat</th>\n",
       "      <th>long</th>\n",
       "      <th>posting_date</th>\n",
       "      <th>fuel</th>\n",
       "      <th>size</th>\n",
       "      <th>transmission</th>\n",
       "      <th>condition</th>\n",
       "      <th>title_status</th>\n",
       "      <th>paint_color</th>\n",
       "    </tr>\n",
       "  </thead>\n",
       "  <tbody>\n",
       "    <tr>\n",
       "      <th>75628</th>\n",
       "      <td>80</td>\n",
       "      <td>8730</td>\n",
       "      <td>68</td>\n",
       "      <td>5</td>\n",
       "      <td>8222</td>\n",
       "      <td>2</td>\n",
       "      <td>6</td>\n",
       "      <td>1</td>\n",
       "      <td>62292</td>\n",
       "      <td>0</td>\n",
       "      <td>...</td>\n",
       "      <td>5</td>\n",
       "      <td>16541</td>\n",
       "      <td>251</td>\n",
       "      <td>162951</td>\n",
       "      <td>1</td>\n",
       "      <td>1</td>\n",
       "      <td>1</td>\n",
       "      <td>2</td>\n",
       "      <td>0</td>\n",
       "      <td>4</td>\n",
       "    </tr>\n",
       "    <tr>\n",
       "      <th>307728</th>\n",
       "      <td>358</td>\n",
       "      <td>7321</td>\n",
       "      <td>100</td>\n",
       "      <td>5</td>\n",
       "      <td>12008</td>\n",
       "      <td>0</td>\n",
       "      <td>6</td>\n",
       "      <td>1</td>\n",
       "      <td>57062</td>\n",
       "      <td>0</td>\n",
       "      <td>...</td>\n",
       "      <td>36</td>\n",
       "      <td>7079</td>\n",
       "      <td>30133</td>\n",
       "      <td>19617</td>\n",
       "      <td>1</td>\n",
       "      <td>1</td>\n",
       "      <td>1</td>\n",
       "      <td>0</td>\n",
       "      <td>0</td>\n",
       "      <td>10</td>\n",
       "    </tr>\n",
       "  </tbody>\n",
       "</table>\n",
       "<p>2 rows × 25 columns</p>\n",
       "</div>"
      ],
      "text/plain": [
       "        region  price  year  manufacturer  model  condition  cylinders  fuel  \\\n",
       "75628       80   8730    68             5   8222          2          6     1   \n",
       "307728     358   7321   100             5  12008          0          6     1   \n",
       "\n",
       "        odometer  title_status  ...  state    lat   long  posting_date  fuel  \\\n",
       "75628      62292             0  ...      5  16541    251        162951     1   \n",
       "307728     57062             0  ...     36   7079  30133         19617     1   \n",
       "\n",
       "        size  transmission  condition  title_status  paint_color  \n",
       "75628      1             1          2             0            4  \n",
       "307728     1             1          0             0           10  \n",
       "\n",
       "[2 rows x 25 columns]"
      ]
     },
     "execution_count": 81,
     "metadata": {},
     "output_type": "execute_result"
    }
   ],
   "source": [
    "df_dum_tr = pd.get_dummies(df_obj_1, drop_first=True)\n",
    "\n",
    "cars_train1 = pd.concat([df1, df_dum_tr], axis=1)\n",
    "cars_train1.head(2)"
   ]
  },
  {
   "cell_type": "code",
   "execution_count": 82,
   "id": "f8d96379",
   "metadata": {},
   "outputs": [
    {
     "data": {
      "text/html": [
       "<div>\n",
       "<style scoped>\n",
       "    .dataframe tbody tr th:only-of-type {\n",
       "        vertical-align: middle;\n",
       "    }\n",
       "\n",
       "    .dataframe tbody tr th {\n",
       "        vertical-align: top;\n",
       "    }\n",
       "\n",
       "    .dataframe thead th {\n",
       "        text-align: right;\n",
       "    }\n",
       "</style>\n",
       "<table border=\"1\" class=\"dataframe\">\n",
       "  <thead>\n",
       "    <tr style=\"text-align: right;\">\n",
       "      <th></th>\n",
       "      <th>region</th>\n",
       "      <th>price</th>\n",
       "      <th>year</th>\n",
       "      <th>manufacturer</th>\n",
       "      <th>model</th>\n",
       "      <th>condition</th>\n",
       "      <th>cylinders</th>\n",
       "      <th>fuel</th>\n",
       "      <th>odometer</th>\n",
       "      <th>title_status</th>\n",
       "      <th>...</th>\n",
       "      <th>state</th>\n",
       "      <th>lat</th>\n",
       "      <th>long</th>\n",
       "      <th>posting_date</th>\n",
       "      <th>fuel</th>\n",
       "      <th>size</th>\n",
       "      <th>transmission</th>\n",
       "      <th>condition</th>\n",
       "      <th>title_status</th>\n",
       "      <th>paint_color</th>\n",
       "    </tr>\n",
       "  </thead>\n",
       "  <tbody>\n",
       "    <tr>\n",
       "      <th>216319</th>\n",
       "      <td>216</td>\n",
       "      <td>3280</td>\n",
       "      <td>75</td>\n",
       "      <td>6</td>\n",
       "      <td>6686</td>\n",
       "      <td>2</td>\n",
       "      <td>5</td>\n",
       "      <td>3</td>\n",
       "      <td>7025</td>\n",
       "      <td>0</td>\n",
       "      <td>...</td>\n",
       "      <td>23</td>\n",
       "      <td>12087</td>\n",
       "      <td>11428</td>\n",
       "      <td>33231</td>\n",
       "      <td>3</td>\n",
       "      <td>1</td>\n",
       "      <td>1</td>\n",
       "      <td>2</td>\n",
       "      <td>0</td>\n",
       "      <td>3</td>\n",
       "    </tr>\n",
       "    <tr>\n",
       "      <th>62863</th>\n",
       "      <td>0</td>\n",
       "      <td>3782</td>\n",
       "      <td>82</td>\n",
       "      <td>19</td>\n",
       "      <td>5597</td>\n",
       "      <td>2</td>\n",
       "      <td>4</td>\n",
       "      <td>3</td>\n",
       "      <td>3454</td>\n",
       "      <td>0</td>\n",
       "      <td>...</td>\n",
       "      <td>4</td>\n",
       "      <td>5159</td>\n",
       "      <td>2948</td>\n",
       "      <td>38396</td>\n",
       "      <td>3</td>\n",
       "      <td>3</td>\n",
       "      <td>1</td>\n",
       "      <td>2</td>\n",
       "      <td>0</td>\n",
       "      <td>10</td>\n",
       "    </tr>\n",
       "  </tbody>\n",
       "</table>\n",
       "<p>2 rows × 25 columns</p>\n",
       "</div>"
      ],
      "text/plain": [
       "        region  price  year  manufacturer  model  condition  cylinders  fuel  \\\n",
       "216319     216   3280    75             6   6686          2          5     3   \n",
       "62863        0   3782    82            19   5597          2          4     3   \n",
       "\n",
       "        odometer  title_status  ...  state    lat   long  posting_date  fuel  \\\n",
       "216319      7025             0  ...     23  12087  11428         33231     3   \n",
       "62863       3454             0  ...      4   5159   2948         38396     3   \n",
       "\n",
       "        size  transmission  condition  title_status  paint_color  \n",
       "216319     1             1          2             0            3  \n",
       "62863      3             1          2             0           10  \n",
       "\n",
       "[2 rows x 25 columns]"
      ]
     },
     "execution_count": 82,
     "metadata": {},
     "output_type": "execute_result"
    }
   ],
   "source": [
    "df_dum_va = pd.get_dummies(df_obj_v, drop_first=True)\n",
    "\n",
    "cars_val2 = pd.concat([df_v, df_dum_va], axis=1)\n",
    "cars_val2.head(2)"
   ]
  },
  {
   "cell_type": "code",
   "execution_count": null,
   "id": "fcc3948a",
   "metadata": {},
   "outputs": [],
   "source": [
    "#df_dum_3 = pd.get_dummies(df_obj_3, drop_first=True)"
   ]
  },
  {
   "cell_type": "code",
   "execution_count": null,
   "id": "84d07149",
   "metadata": {
    "scrolled": true
   },
   "outputs": [],
   "source": [
    "#cars_train3 = pd.concat([df1, df_dum_3], axis=1)\n",
    "#cars_train3.head(2)"
   ]
  },
  {
   "cell_type": "code",
   "execution_count": 83,
   "id": "0d6ba6ec",
   "metadata": {},
   "outputs": [],
   "source": [
    "used_cars = pd.concat([df1,cars_val2,cars_train1], axis=1)"
   ]
  },
  {
   "cell_type": "code",
   "execution_count": null,
   "id": "6b6dd381",
   "metadata": {},
   "outputs": [],
   "source": [
    "#used_cars.info() "
   ]
  },
  {
   "cell_type": "code",
   "execution_count": null,
   "id": "975674fa",
   "metadata": {},
   "outputs": [],
   "source": []
  },
  {
   "cell_type": "markdown",
   "id": "aa0646a0",
   "metadata": {},
   "source": [
    "## Linear Regression Models:\n",
    "\n",
    "- Setting up for modeling and building a baseline:"
   ]
  },
  {
   "cell_type": "code",
   "execution_count": 84,
   "id": "31c07f3f",
   "metadata": {},
   "outputs": [],
   "source": [
    "X_train1 = cars_train1.drop(['price'], axis = 1)\n",
    "y_train1 = cars_train1['price']"
   ]
  },
  {
   "cell_type": "code",
   "execution_count": 85,
   "id": "c1fcbdd6",
   "metadata": {},
   "outputs": [
    {
     "name": "stdout",
     "output_type": "stream",
     "text": [
      "Training Score: 0.02584224860986295\n"
     ]
    }
   ],
   "source": [
    "lr = LinearRegression()\n",
    "lr.fit(X_train1,y_train1)\n",
    "\n",
    "print(f\"Training Score: {lr.score(X_train1,y_train1)}\")"
   ]
  },
  {
   "cell_type": "code",
   "execution_count": 86,
   "id": "d8a5d7af",
   "metadata": {},
   "outputs": [],
   "source": [
    "X_val1 = cars_val2.drop(['price'], axis = 1)\n",
    "y_val1 = cars_val2['price']"
   ]
  },
  {
   "cell_type": "code",
   "execution_count": 87,
   "id": "61bb3c22",
   "metadata": {},
   "outputs": [
    {
     "name": "stdout",
     "output_type": "stream",
     "text": [
      "Training Score: 0.0260573394504795\n"
     ]
    }
   ],
   "source": [
    "lr = LinearRegression()\n",
    "lr.fit(X_val1,y_val1)\n",
    "\n",
    "print(f\"Training Score: {lr.score(X_val1,y_val1)}\")"
   ]
  },
  {
   "cell_type": "code",
   "execution_count": null,
   "id": "00a32572",
   "metadata": {},
   "outputs": [],
   "source": [
    "#from sklearn.tree import DecisionTreeRegressor\n",
    "#dtree_reg = DecisionTreeRegressor()\n",
    "#dtree_reg.fit(X_train1, y_train1)\n",
    "\n",
    "#print(f\"Training Score: {lr.score(X_train1,y_train1)}\")"
   ]
  },
  {
   "cell_type": "code",
   "execution_count": null,
   "id": "0923db94",
   "metadata": {},
   "outputs": [],
   "source": [
    "#from sklearn.tree import DecisionTreeRegressor\n",
    "#dtree_reg = DecisionTreeRegressor()\n",
    "#dtree_reg.fit(X_val1, y_val1)\n",
    "\n",
    "#print(f\"Training Score: {lr.score(X_val1,y_val1)}\")"
   ]
  },
  {
   "cell_type": "code",
   "execution_count": null,
   "id": "0afce0d0",
   "metadata": {},
   "outputs": [],
   "source": [
    "#from sklearn.ensemble import RandomForestRegressor, BaggingRegressor, AdaBoostRegressor, GradientBoostingRegressor"
   ]
  },
  {
   "cell_type": "code",
   "execution_count": null,
   "id": "4e07ab5c",
   "metadata": {},
   "outputs": [],
   "source": [
    "#rf_reg = RandomForestRegressor()\n",
    "#rf_reg.fit(X_train1, y_train1)\n",
    "#print(f\"Training Score: {lr.score(X_train1,y_train1)}\")"
   ]
  },
  {
   "cell_type": "code",
   "execution_count": null,
   "id": "f3c090b3",
   "metadata": {},
   "outputs": [],
   "source": [
    "#rf_reg = RandomForestRegressor()\n",
    "#rf_reg.fit(X_val1, y_val1)\n",
    "#print(f\"Training Score: {lr.score(X_val1,y_val1)}\")"
   ]
  },
  {
   "cell_type": "code",
   "execution_count": null,
   "id": "83946510",
   "metadata": {},
   "outputs": [],
   "source": []
  },
  {
   "cell_type": "code",
   "execution_count": null,
   "id": "9fee341d",
   "metadata": {},
   "outputs": [],
   "source": []
  },
  {
   "cell_type": "markdown",
   "id": "eb1dc82f",
   "metadata": {},
   "source": [
    "## ______________________________________________________________________________________\n",
    "### 1. Polynomial "
   ]
  },
  {
   "cell_type": "code",
   "execution_count": 88,
   "id": "2adf2488",
   "metadata": {},
   "outputs": [],
   "source": [
    "poly = PolynomialFeatures(degree=3, include_bias=False, interaction_only=False) \n",
    "X_train1_poly = poly.fit_transform(X_train1.values)\n",
    "poly_model = LinearRegression()\n"
   ]
  },
  {
   "cell_type": "code",
   "execution_count": 89,
   "id": "59210681",
   "metadata": {},
   "outputs": [
    {
     "name": "stdout",
     "output_type": "stream",
     "text": [
      "0.13902251758536877\n"
     ]
    }
   ],
   "source": [
    "poly_model.fit(X_train1_poly, y_train1)\n",
    "print(poly_model.score(X_train1_poly, y_train1))"
   ]
  },
  {
   "cell_type": "code",
   "execution_count": 90,
   "id": "ef723a5d",
   "metadata": {},
   "outputs": [],
   "source": [
    "scaler = StandardScaler()\n",
    "\n",
    "X_train1 = scaler.fit_transform(X_train1 )"
   ]
  },
  {
   "cell_type": "code",
   "execution_count": 91,
   "id": "bea0f6aa",
   "metadata": {
    "scrolled": true
   },
   "outputs": [
    {
     "data": {
      "text/plain": [
       "array([[-0.96763512, -3.04251696, -0.99754807, ...,  0.48009491,\n",
       "        -0.17468555, -0.39366635],\n",
       "       [ 1.38665008,  0.73506057, -0.99754807, ..., -1.62033411,\n",
       "        -0.17468555,  1.05658176],\n",
       "       [ 1.44593064,  0.61701127, -0.99754807, ...,  0.48009491,\n",
       "        -0.17468555, -0.15195833],\n",
       "       ...,\n",
       "       [-1.34872445,  0.14481408, -1.45167672, ..., -1.62033411,\n",
       "        -0.17468555, -1.36049842],\n",
       "       [ 0.21797613,  0.97115916, -0.54341942, ...,  0.48009491,\n",
       "        -0.17468555,  1.05658176],\n",
       "       [-0.48492196,  0.14481408, -0.54341942, ...,  0.48009491,\n",
       "        -0.17468555,  1.05658176]])"
      ]
     },
     "execution_count": 91,
     "metadata": {},
     "output_type": "execute_result"
    }
   ],
   "source": [
    "X_train1 "
   ]
  },
  {
   "cell_type": "code",
   "execution_count": 92,
   "id": "113d6426",
   "metadata": {},
   "outputs": [],
   "source": [
    "from sklearn.preprocessing import StandardScaler\n",
    "scaler = StandardScaler()\n",
    "scaler.fit(X_train1)\n",
    "X_train1_scaled = scaler.transform(X_train1)\n"
   ]
  },
  {
   "cell_type": "code",
   "execution_count": 93,
   "id": "54d93ae6",
   "metadata": {},
   "outputs": [],
   "source": [
    "from sklearn.linear_model import LinearRegression\n",
    "from sklearn.ensemble import RandomForestRegressor\n",
    "from sklearn.neural_network import MLPRegressor\n",
    "\n",
    "from sklearn.ensemble import AdaBoostRegressor"
   ]
  },
  {
   "cell_type": "code",
   "execution_count": 94,
   "id": "c2dd6032",
   "metadata": {},
   "outputs": [
    {
     "name": "stderr",
     "output_type": "stream",
     "text": [
      "/Users/soaadaljafr/opt/anaconda3/lib/python3.8/site-packages/sklearn/neural_network/_multilayer_perceptron.py:614: ConvergenceWarning: Stochastic Optimizer: Maximum iterations (200) reached and the optimization hasn't converged yet.\n",
      "  warnings.warn(\n"
     ]
    },
    {
     "name": "stdout",
     "output_type": "stream",
     "text": [
      "Training data score 0.1957457230813331\n"
     ]
    }
   ],
   "source": [
    "lrmodel = MLPRegressor()\n",
    "lrmodel.fit(X_train1_scaled , y_train1)\n",
    "print('Training data score',lrmodel.score(X_train1_scaled , y_train1));"
   ]
  },
  {
   "cell_type": "code",
   "execution_count": 95,
   "id": "b2f6eee6",
   "metadata": {},
   "outputs": [
    {
     "name": "stdout",
     "output_type": "stream",
     "text": [
      "0.08572718720047012 \n",
      "\n"
     ]
    }
   ],
   "source": [
    "abmodel = AdaBoostRegressor()\n",
    "abmodel.fit(X_train1 , y_train1)\n",
    "print(abmodel.score(X_train1 , y_train1),'\\n')"
   ]
  },
  {
   "cell_type": "code",
   "execution_count": 96,
   "id": "6d1d144a",
   "metadata": {},
   "outputs": [
    {
     "name": "stdout",
     "output_type": "stream",
     "text": [
      "-0.011383212020657396 \n",
      "\n"
     ]
    }
   ],
   "source": [
    "abmodel = AdaBoostRegressor()\n",
    "abmodel.fit(X_train1 , y_train1)\n",
    "print(abmodel.score(X_val1 , y_val1),'\\n')"
   ]
  },
  {
   "cell_type": "markdown",
   "id": "d41db83c",
   "metadata": {},
   "source": [
    "## ______________________________________________________________________________________\n",
    "### 2. Ridge\n"
   ]
  },
  {
   "cell_type": "code",
   "execution_count": 107,
   "id": "29bfba8d",
   "metadata": {},
   "outputs": [],
   "source": [
    "scaler = StandardScaler()\n",
    "\n",
    "X_train1_scaled = scaler.fit_transform(X_train1)\n",
    "X_val1_scaled = scaler.transform(X_val1)\n",
    "\n",
    "red_model = Ridge(alpha=1)"
   ]
  },
  {
   "cell_type": "code",
   "execution_count": 108,
   "id": "281dc66d",
   "metadata": {},
   "outputs": [
    {
     "name": "stdout",
     "output_type": "stream",
     "text": [
      "Ridge Regression validation Score: -14556702.34702303\n",
      "Ridge Regression Training Score: 0.02584225\n"
     ]
    }
   ],
   "source": [
    "red_model.fit(X_train1_scaled, y_train1)\n",
    "\n",
    "print(f'Ridge Regression validation Score: {red_model.score(X_val1_scaled, y_val1):.8f}')\n",
    "print(f'Ridge Regression Training Score: {red_model.score(X_train1_scaled, y_train1):.8f}')"
   ]
  },
  {
   "cell_type": "code",
   "execution_count": null,
   "id": "9507c567",
   "metadata": {},
   "outputs": [],
   "source": []
  },
  {
   "cell_type": "code",
   "execution_count": null,
   "id": "f8c8f31b",
   "metadata": {},
   "outputs": [],
   "source": []
  },
  {
   "cell_type": "code",
   "execution_count": null,
   "id": "5f8f1fed",
   "metadata": {},
   "outputs": [],
   "source": []
  },
  {
   "cell_type": "code",
   "execution_count": null,
   "id": "c949ee4c",
   "metadata": {},
   "outputs": [],
   "source": []
  }
 ],
 "metadata": {
  "kernelspec": {
   "display_name": "Python 3",
   "language": "python",
   "name": "python3"
  },
  "language_info": {
   "codemirror_mode": {
    "name": "ipython",
    "version": 3
   },
   "file_extension": ".py",
   "mimetype": "text/x-python",
   "name": "python",
   "nbconvert_exporter": "python",
   "pygments_lexer": "ipython3",
   "version": "3.8.8"
  }
 },
 "nbformat": 4,
 "nbformat_minor": 5
}
