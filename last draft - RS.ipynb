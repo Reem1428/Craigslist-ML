{
 "cells": [
  {
   "cell_type": "code",
   "execution_count": 3,
   "id": "c96b6cb3",
   "metadata": {},
   "outputs": [],
   "source": [
    "import pandas as pd\n",
    "from pandas import DataFrame\n",
    "from pandas.plotting import scatter_matrix\n",
    "import matplotlib.pyplot as plt\n",
    "from matplotlib import rcParams\n",
    "import numpy as np\n",
    "import seaborn as sns\n",
    "%matplotlib inline\n",
    "from matplotlib import rc\n",
    "import plotly.graph_objs as go\n",
    "from sklearn import preprocessing\n",
    "import matplotlib\n",
    "import statsmodels.api as sm\n",
    "from sklearn.model_selection import train_test_split\n",
    "from sklearn.linear_model import LinearRegression\n",
    "from sklearn.feature_selection import RFE\n",
    "from sklearn.linear_model import RidgeCV, LassoCV, Ridge, Lasso\n",
    "from sklearn import metrics\n",
    "from sklearn.metrics import r2_score\n",
    "from sklearn.tree import DecisionTreeRegressor\n",
    "import math\n",
    "from sklearn.metrics import mean_squared_error as MSE\n",
    "from sklearn import tree\n",
    "from sklearn.tree import export_graphviz\n",
    "# from sklearn.externals.six import StringIO\n",
    "from IPython.display import Image\n",
    "# import pydotplus\n",
    "from sklearn.ensemble import RandomForestRegressor\n",
    "import missingno as msno"
   ]
  },
  {
   "cell_type": "code",
   "execution_count": 5,
   "id": "a888586c",
   "metadata": {
    "scrolled": false
   },
   "outputs": [],
   "source": [
    "#df = pd.read_csv('/Users/reema/Desktop/ML/vehicles.csv')"
   ]
  },
  {
   "cell_type": "code",
   "execution_count": 4,
   "id": "f9234548",
   "metadata": {},
   "outputs": [],
   "source": [
    "df = pd.read_csv('/Users/soaadaljafr/Downloads/vehicles.csv')"
   ]
  },
  {
   "cell_type": "code",
   "execution_count": null,
   "id": "2652c27f",
   "metadata": {},
   "outputs": [],
   "source": [
    "## EDA\n",
    "### Data Exploring:"
   ]
  },
  {
   "cell_type": "code",
   "execution_count": 5,
   "id": "dd7f1222",
   "metadata": {},
   "outputs": [
    {
     "data": {
      "text/html": [
       "<div>\n",
       "<style scoped>\n",
       "    .dataframe tbody tr th:only-of-type {\n",
       "        vertical-align: middle;\n",
       "    }\n",
       "\n",
       "    .dataframe tbody tr th {\n",
       "        vertical-align: top;\n",
       "    }\n",
       "\n",
       "    .dataframe thead th {\n",
       "        text-align: right;\n",
       "    }\n",
       "</style>\n",
       "<table border=\"1\" class=\"dataframe\">\n",
       "  <thead>\n",
       "    <tr style=\"text-align: right;\">\n",
       "      <th></th>\n",
       "      <th>id</th>\n",
       "      <th>url</th>\n",
       "      <th>region</th>\n",
       "      <th>region_url</th>\n",
       "      <th>price</th>\n",
       "      <th>year</th>\n",
       "      <th>manufacturer</th>\n",
       "      <th>model</th>\n",
       "      <th>condition</th>\n",
       "      <th>cylinders</th>\n",
       "      <th>...</th>\n",
       "      <th>size</th>\n",
       "      <th>type</th>\n",
       "      <th>paint_color</th>\n",
       "      <th>image_url</th>\n",
       "      <th>description</th>\n",
       "      <th>county</th>\n",
       "      <th>state</th>\n",
       "      <th>lat</th>\n",
       "      <th>long</th>\n",
       "      <th>posting_date</th>\n",
       "    </tr>\n",
       "  </thead>\n",
       "  <tbody>\n",
       "    <tr>\n",
       "      <th>321764</th>\n",
       "      <td>7317019482</td>\n",
       "      <td>https://portland.craigslist.org/mlt/ctd/d/2014...</td>\n",
       "      <td>portland</td>\n",
       "      <td>https://portland.craigslist.org</td>\n",
       "      <td>55999</td>\n",
       "      <td>2014.0</td>\n",
       "      <td>toyota</td>\n",
       "      <td>land cruiser 4x4</td>\n",
       "      <td>excellent</td>\n",
       "      <td>8 cylinders</td>\n",
       "      <td>...</td>\n",
       "      <td>NaN</td>\n",
       "      <td>SUV</td>\n",
       "      <td>black</td>\n",
       "      <td>https://images.craigslist.org/00r0r_iqTI7BfmtR...</td>\n",
       "      <td>MS MOTORS 503-805-0976 WE ARE BY APPOINTMENT O...</td>\n",
       "      <td>NaN</td>\n",
       "      <td>or</td>\n",
       "      <td>NaN</td>\n",
       "      <td>NaN</td>\n",
       "      <td>2021-05-04T16:43:41-0700</td>\n",
       "    </tr>\n",
       "    <tr>\n",
       "      <th>27608</th>\n",
       "      <td>7311070687</td>\n",
       "      <td>https://fresno.craigslist.org/cto/d/dinuba-200...</td>\n",
       "      <td>fresno / madera</td>\n",
       "      <td>https://fresno.craigslist.org</td>\n",
       "      <td>11500</td>\n",
       "      <td>2003.0</td>\n",
       "      <td>toyota</td>\n",
       "      <td>tacoma</td>\n",
       "      <td>good</td>\n",
       "      <td>6 cylinders</td>\n",
       "      <td>...</td>\n",
       "      <td>NaN</td>\n",
       "      <td>NaN</td>\n",
       "      <td>NaN</td>\n",
       "      <td>https://images.craigslist.org/00r0r_UGkg1Nlxjz...</td>\n",
       "      <td>2003 Toyota Tacoma xtra cab 158k miles Power w...</td>\n",
       "      <td>NaN</td>\n",
       "      <td>ca</td>\n",
       "      <td>36.534900</td>\n",
       "      <td>-119.390900</td>\n",
       "      <td>2021-04-22T14:31:17-0700</td>\n",
       "    </tr>\n",
       "    <tr>\n",
       "      <th>162767</th>\n",
       "      <td>7309619385</td>\n",
       "      <td>https://omaha.craigslist.org/cto/d/redwood-fal...</td>\n",
       "      <td>omaha / council bluffs</td>\n",
       "      <td>https://omaha.craigslist.org</td>\n",
       "      <td>15000</td>\n",
       "      <td>2015.0</td>\n",
       "      <td>toyota</td>\n",
       "      <td>rav4 awd</td>\n",
       "      <td>excellent</td>\n",
       "      <td>4 cylinders</td>\n",
       "      <td>...</td>\n",
       "      <td>mid-size</td>\n",
       "      <td>SUV</td>\n",
       "      <td>blue</td>\n",
       "      <td>https://images.craigslist.org/00x0x_cg0qSlREYd...</td>\n",
       "      <td>I just bought a brand new Toyota Tundra pickup...</td>\n",
       "      <td>NaN</td>\n",
       "      <td>ia</td>\n",
       "      <td>44.539400</td>\n",
       "      <td>-95.116900</td>\n",
       "      <td>2021-04-19T20:50:27-0500</td>\n",
       "    </tr>\n",
       "    <tr>\n",
       "      <th>213221</th>\n",
       "      <td>7315104669</td>\n",
       "      <td>https://mankato.craigslist.org/cto/d/freeborn-...</td>\n",
       "      <td>mankato</td>\n",
       "      <td>https://mankato.craigslist.org</td>\n",
       "      <td>4800</td>\n",
       "      <td>2002.0</td>\n",
       "      <td>rover</td>\n",
       "      <td>NaN</td>\n",
       "      <td>excellent</td>\n",
       "      <td>8 cylinders</td>\n",
       "      <td>...</td>\n",
       "      <td>full-size</td>\n",
       "      <td>offroad</td>\n",
       "      <td>black</td>\n",
       "      <td>https://images.craigslist.org/00B0B_dvyY4i2u9C...</td>\n",
       "      <td>~2002 Land Rover Range Rover 4.6 HSE Sport Uti...</td>\n",
       "      <td>NaN</td>\n",
       "      <td>mn</td>\n",
       "      <td>43.823141</td>\n",
       "      <td>-93.604181</td>\n",
       "      <td>2021-04-30T18:58:40-0500</td>\n",
       "    </tr>\n",
       "    <tr>\n",
       "      <th>121497</th>\n",
       "      <td>7316739579</td>\n",
       "      <td>https://atlanta.craigslist.org/atl/ctd/d/2013-...</td>\n",
       "      <td>atlanta</td>\n",
       "      <td>https://atlanta.craigslist.org</td>\n",
       "      <td>0</td>\n",
       "      <td>2013.0</td>\n",
       "      <td>NaN</td>\n",
       "      <td>JUST TOO EASY!</td>\n",
       "      <td>NaN</td>\n",
       "      <td>NaN</td>\n",
       "      <td>...</td>\n",
       "      <td>NaN</td>\n",
       "      <td>NaN</td>\n",
       "      <td>NaN</td>\n",
       "      <td>https://images.craigslist.org/00t0t_5UaUTn7loH...</td>\n",
       "      <td>🔥🔥🔥🔥🔥🔥🔥🔥🔥🔥🔥🔥🔥🔥🔥🔥🔥🔥🔥🔥🔥🔥🔥🔥🔥🔥🔥🔥🚗🚗🚗🚗🚗🚗🚗🚗🚗🚗🚗🚗🚗🚗✍🏽✍🏽...</td>\n",
       "      <td>NaN</td>\n",
       "      <td>ga</td>\n",
       "      <td>33.949600</td>\n",
       "      <td>-83.994200</td>\n",
       "      <td>2021-05-04T11:35:03-0400</td>\n",
       "    </tr>\n",
       "    <tr>\n",
       "      <th>309368</th>\n",
       "      <td>7310514816</td>\n",
       "      <td>https://tulsa.craigslist.org/ctd/d/clinton-tou...</td>\n",
       "      <td>tulsa</td>\n",
       "      <td>https://tulsa.craigslist.org</td>\n",
       "      <td>49628</td>\n",
       "      <td>2019.0</td>\n",
       "      <td>ford</td>\n",
       "      <td>f-150</td>\n",
       "      <td>NaN</td>\n",
       "      <td>NaN</td>\n",
       "      <td>...</td>\n",
       "      <td>NaN</td>\n",
       "      <td>pickup</td>\n",
       "      <td>black</td>\n",
       "      <td>https://images.craigslist.org/00d0d_8l6sIIehgm...</td>\n",
       "      <td>➔ Want to see more pictures?Paste this link to...</td>\n",
       "      <td>NaN</td>\n",
       "      <td>ok</td>\n",
       "      <td>38.401800</td>\n",
       "      <td>-93.785000</td>\n",
       "      <td>2021-04-21T15:00:27-0500</td>\n",
       "    </tr>\n",
       "  </tbody>\n",
       "</table>\n",
       "<p>6 rows × 26 columns</p>\n",
       "</div>"
      ],
      "text/plain": [
       "                id                                                url  \\\n",
       "321764  7317019482  https://portland.craigslist.org/mlt/ctd/d/2014...   \n",
       "27608   7311070687  https://fresno.craigslist.org/cto/d/dinuba-200...   \n",
       "162767  7309619385  https://omaha.craigslist.org/cto/d/redwood-fal...   \n",
       "213221  7315104669  https://mankato.craigslist.org/cto/d/freeborn-...   \n",
       "121497  7316739579  https://atlanta.craigslist.org/atl/ctd/d/2013-...   \n",
       "309368  7310514816  https://tulsa.craigslist.org/ctd/d/clinton-tou...   \n",
       "\n",
       "                        region                       region_url  price  \\\n",
       "321764                portland  https://portland.craigslist.org  55999   \n",
       "27608          fresno / madera    https://fresno.craigslist.org  11500   \n",
       "162767  omaha / council bluffs     https://omaha.craigslist.org  15000   \n",
       "213221                 mankato   https://mankato.craigslist.org   4800   \n",
       "121497                 atlanta   https://atlanta.craigslist.org      0   \n",
       "309368                   tulsa     https://tulsa.craigslist.org  49628   \n",
       "\n",
       "          year manufacturer             model  condition    cylinders  ...  \\\n",
       "321764  2014.0       toyota  land cruiser 4x4  excellent  8 cylinders  ...   \n",
       "27608   2003.0       toyota            tacoma       good  6 cylinders  ...   \n",
       "162767  2015.0       toyota          rav4 awd  excellent  4 cylinders  ...   \n",
       "213221  2002.0        rover               NaN  excellent  8 cylinders  ...   \n",
       "121497  2013.0          NaN    JUST TOO EASY!        NaN          NaN  ...   \n",
       "309368  2019.0         ford             f-150        NaN          NaN  ...   \n",
       "\n",
       "             size     type paint_color  \\\n",
       "321764        NaN      SUV       black   \n",
       "27608         NaN      NaN         NaN   \n",
       "162767   mid-size      SUV        blue   \n",
       "213221  full-size  offroad       black   \n",
       "121497        NaN      NaN         NaN   \n",
       "309368        NaN   pickup       black   \n",
       "\n",
       "                                                image_url  \\\n",
       "321764  https://images.craigslist.org/00r0r_iqTI7BfmtR...   \n",
       "27608   https://images.craigslist.org/00r0r_UGkg1Nlxjz...   \n",
       "162767  https://images.craigslist.org/00x0x_cg0qSlREYd...   \n",
       "213221  https://images.craigslist.org/00B0B_dvyY4i2u9C...   \n",
       "121497  https://images.craigslist.org/00t0t_5UaUTn7loH...   \n",
       "309368  https://images.craigslist.org/00d0d_8l6sIIehgm...   \n",
       "\n",
       "                                              description county state  \\\n",
       "321764  MS MOTORS 503-805-0976 WE ARE BY APPOINTMENT O...    NaN    or   \n",
       "27608   2003 Toyota Tacoma xtra cab 158k miles Power w...    NaN    ca   \n",
       "162767  I just bought a brand new Toyota Tundra pickup...    NaN    ia   \n",
       "213221  ~2002 Land Rover Range Rover 4.6 HSE Sport Uti...    NaN    mn   \n",
       "121497  🔥🔥🔥🔥🔥🔥🔥🔥🔥🔥🔥🔥🔥🔥🔥🔥🔥🔥🔥🔥🔥🔥🔥🔥🔥🔥🔥🔥🚗🚗🚗🚗🚗🚗🚗🚗🚗🚗🚗🚗🚗🚗✍🏽✍🏽...    NaN    ga   \n",
       "309368  ➔ Want to see more pictures?Paste this link to...    NaN    ok   \n",
       "\n",
       "              lat        long              posting_date  \n",
       "321764        NaN         NaN  2021-05-04T16:43:41-0700  \n",
       "27608   36.534900 -119.390900  2021-04-22T14:31:17-0700  \n",
       "162767  44.539400  -95.116900  2021-04-19T20:50:27-0500  \n",
       "213221  43.823141  -93.604181  2021-04-30T18:58:40-0500  \n",
       "121497  33.949600  -83.994200  2021-05-04T11:35:03-0400  \n",
       "309368  38.401800  -93.785000  2021-04-21T15:00:27-0500  \n",
       "\n",
       "[6 rows x 26 columns]"
      ]
     },
     "execution_count": 5,
     "metadata": {},
     "output_type": "execute_result"
    }
   ],
   "source": [
    "df.sample(6)"
   ]
  },
  {
   "cell_type": "code",
   "execution_count": null,
   "id": "56050d68",
   "metadata": {},
   "outputs": [],
   "source": [
    "## Data Cleaning:"
   ]
  },
  {
   "cell_type": "code",
   "execution_count": 6,
   "id": "e1f7f952",
   "metadata": {},
   "outputs": [
    {
     "data": {
      "text/html": [
       "<div>\n",
       "<style scoped>\n",
       "    .dataframe tbody tr th:only-of-type {\n",
       "        vertical-align: middle;\n",
       "    }\n",
       "\n",
       "    .dataframe tbody tr th {\n",
       "        vertical-align: top;\n",
       "    }\n",
       "\n",
       "    .dataframe thead th {\n",
       "        text-align: right;\n",
       "    }\n",
       "</style>\n",
       "<table border=\"1\" class=\"dataframe\">\n",
       "  <thead>\n",
       "    <tr style=\"text-align: right;\">\n",
       "      <th></th>\n",
       "      <th>0</th>\n",
       "    </tr>\n",
       "  </thead>\n",
       "  <tbody>\n",
       "    <tr>\n",
       "      <th>id</th>\n",
       "      <td>0</td>\n",
       "    </tr>\n",
       "    <tr>\n",
       "      <th>url</th>\n",
       "      <td>0</td>\n",
       "    </tr>\n",
       "    <tr>\n",
       "      <th>region</th>\n",
       "      <td>0</td>\n",
       "    </tr>\n",
       "    <tr>\n",
       "      <th>region_url</th>\n",
       "      <td>0</td>\n",
       "    </tr>\n",
       "    <tr>\n",
       "      <th>price</th>\n",
       "      <td>0</td>\n",
       "    </tr>\n",
       "    <tr>\n",
       "      <th>year</th>\n",
       "      <td>1205</td>\n",
       "    </tr>\n",
       "    <tr>\n",
       "      <th>manufacturer</th>\n",
       "      <td>17646</td>\n",
       "    </tr>\n",
       "    <tr>\n",
       "      <th>model</th>\n",
       "      <td>5277</td>\n",
       "    </tr>\n",
       "    <tr>\n",
       "      <th>condition</th>\n",
       "      <td>174104</td>\n",
       "    </tr>\n",
       "    <tr>\n",
       "      <th>cylinders</th>\n",
       "      <td>177678</td>\n",
       "    </tr>\n",
       "    <tr>\n",
       "      <th>fuel</th>\n",
       "      <td>3013</td>\n",
       "    </tr>\n",
       "    <tr>\n",
       "      <th>odometer</th>\n",
       "      <td>4400</td>\n",
       "    </tr>\n",
       "    <tr>\n",
       "      <th>title_status</th>\n",
       "      <td>8242</td>\n",
       "    </tr>\n",
       "    <tr>\n",
       "      <th>transmission</th>\n",
       "      <td>2556</td>\n",
       "    </tr>\n",
       "    <tr>\n",
       "      <th>VIN</th>\n",
       "      <td>161042</td>\n",
       "    </tr>\n",
       "    <tr>\n",
       "      <th>drive</th>\n",
       "      <td>130567</td>\n",
       "    </tr>\n",
       "    <tr>\n",
       "      <th>size</th>\n",
       "      <td>306361</td>\n",
       "    </tr>\n",
       "    <tr>\n",
       "      <th>type</th>\n",
       "      <td>92858</td>\n",
       "    </tr>\n",
       "    <tr>\n",
       "      <th>paint_color</th>\n",
       "      <td>130203</td>\n",
       "    </tr>\n",
       "    <tr>\n",
       "      <th>image_url</th>\n",
       "      <td>68</td>\n",
       "    </tr>\n",
       "    <tr>\n",
       "      <th>description</th>\n",
       "      <td>70</td>\n",
       "    </tr>\n",
       "    <tr>\n",
       "      <th>county</th>\n",
       "      <td>426880</td>\n",
       "    </tr>\n",
       "    <tr>\n",
       "      <th>state</th>\n",
       "      <td>0</td>\n",
       "    </tr>\n",
       "    <tr>\n",
       "      <th>lat</th>\n",
       "      <td>6549</td>\n",
       "    </tr>\n",
       "    <tr>\n",
       "      <th>long</th>\n",
       "      <td>6549</td>\n",
       "    </tr>\n",
       "    <tr>\n",
       "      <th>posting_date</th>\n",
       "      <td>68</td>\n",
       "    </tr>\n",
       "  </tbody>\n",
       "</table>\n",
       "</div>"
      ],
      "text/plain": [
       "                   0\n",
       "id                 0\n",
       "url                0\n",
       "region             0\n",
       "region_url         0\n",
       "price              0\n",
       "year            1205\n",
       "manufacturer   17646\n",
       "model           5277\n",
       "condition     174104\n",
       "cylinders     177678\n",
       "fuel            3013\n",
       "odometer        4400\n",
       "title_status    8242\n",
       "transmission    2556\n",
       "VIN           161042\n",
       "drive         130567\n",
       "size          306361\n",
       "type           92858\n",
       "paint_color   130203\n",
       "image_url         68\n",
       "description       70\n",
       "county        426880\n",
       "state              0\n",
       "lat             6549\n",
       "long            6549\n",
       "posting_date      68"
      ]
     },
     "execution_count": 6,
     "metadata": {},
     "output_type": "execute_result"
    }
   ],
   "source": [
    "df.isnull().sum().to_frame()"
   ]
  },
  {
   "cell_type": "code",
   "execution_count": 8,
   "id": "8b61a83b",
   "metadata": {},
   "outputs": [],
   "source": [
    "df.drop(['id', 'url','region_url', 'VIN', 'image_url', 'lat', 'long', 'description'], axis=1, inplace=True)"
   ]
  },
  {
   "cell_type": "code",
   "execution_count": null,
   "id": "1ebc0bac",
   "metadata": {},
   "outputs": [],
   "source": [
    "df.isnull().sum())"
   ]
  },
  {
   "cell_type": "code",
   "execution_count": 9,
   "id": "64d130c2",
   "metadata": {},
   "outputs": [
    {
     "data": {
      "text/plain": [
       "Index(['region', 'price', 'year', 'manufacturer', 'model', 'condition',\n",
       "       'cylinders', 'fuel', 'odometer', 'title_status', 'transmission',\n",
       "       'drive', 'type', 'paint_color', 'state', 'posting_date'],\n",
       "      dtype='object')"
      ]
     },
     "execution_count": 9,
     "metadata": {},
     "output_type": "execute_result"
    }
   ],
   "source": [
    "null_val = df.isna().sum()\n",
    "def na_filter(na, threshold = .55): #only select variables that passees the threshold\n",
    "    col_pass = []\n",
    "    for i in na.keys():\n",
    "        if na[i]/df.shape[0]<threshold:\n",
    "            col_pass.append(i)\n",
    "    return col_pass\n",
    "used_cars = df[na_filter(null_val)]\n",
    "used_cars.columns"
   ]
  },
  {
   "cell_type": "code",
   "execution_count": 10,
   "id": "7af3cfea",
   "metadata": {},
   "outputs": [
    {
     "data": {
      "text/plain": [
       "array([nan, 'gmc', 'chevrolet', 'toyota', 'ford', 'jeep', 'nissan', 'ram',\n",
       "       'mazda', 'cadillac', 'honda', 'dodge', 'lexus', 'jaguar', 'buick',\n",
       "       'chrysler', 'volvo', 'audi', 'infiniti', 'lincoln', 'alfa-romeo',\n",
       "       'subaru', 'acura', 'hyundai', 'mercedes-benz', 'bmw', 'mitsubishi',\n",
       "       'volkswagen', 'porsche', 'kia', 'rover', 'ferrari', 'mini',\n",
       "       'pontiac', 'fiat', 'tesla', 'saturn', 'mercury', 'harley-davidson',\n",
       "       'datsun', 'aston-martin', 'land rover', 'morgan'], dtype=object)"
      ]
     },
     "execution_count": 10,
     "metadata": {},
     "output_type": "execute_result"
    }
   ],
   "source": [
    "used_cars.manufacturer.unique()"
   ]
  },
  {
   "cell_type": "code",
   "execution_count": 11,
   "id": "36d368da",
   "metadata": {},
   "outputs": [
    {
     "data": {
      "text/plain": [
       "array([nan, 'sierra 1500 crew cab slt', 'silverado 1500', ...,\n",
       "       'gand wagoneer', '96 Suburban', 'Paige Glenbrook Touring'],\n",
       "      dtype=object)"
      ]
     },
     "execution_count": 11,
     "metadata": {},
     "output_type": "execute_result"
    }
   ],
   "source": [
    "used_cars.model.unique()"
   ]
  },
  {
   "cell_type": "code",
   "execution_count": 12,
   "id": "f62b1f36",
   "metadata": {},
   "outputs": [],
   "source": [
    "used_cars1 = used_cars.dropna()"
   ]
  },
  {
   "cell_type": "code",
   "execution_count": 13,
   "id": "3e5a17eb",
   "metadata": {},
   "outputs": [
    {
     "data": {
      "text/plain": [
       "(115988, 16)"
      ]
     },
     "execution_count": 13,
     "metadata": {},
     "output_type": "execute_result"
    }
   ],
   "source": [
    "used_cars1.shape"
   ]
  },
  {
   "cell_type": "code",
   "execution_count": 14,
   "id": "5ddf3fe2",
   "metadata": {},
   "outputs": [],
   "source": [
    "used_cars1 = used_cars1[used_cars1['price']>0]"
   ]
  },
  {
   "cell_type": "code",
   "execution_count": 18,
   "id": "dd030dd8",
   "metadata": {},
   "outputs": [
    {
     "data": {
      "text/plain": [
       "31         True\n",
       "32         True\n",
       "33         True\n",
       "34         True\n",
       "35         True\n",
       "          ...  \n",
       "426859    False\n",
       "426860     True\n",
       "426866     True\n",
       "426874     True\n",
       "426878     True\n",
       "Name: price, Length: 111636, dtype: bool"
      ]
     },
     "execution_count": 18,
     "metadata": {},
     "output_type": "execute_result"
    }
   ],
   "source": [
    "y = used_cars1['price']\n",
    "removed_outliers = y.between(y.quantile(.05), y.quantile(.95))\n",
    "removed_outliers"
   ]
  },
  {
   "cell_type": "code",
   "execution_count": 19,
   "id": "390395f1",
   "metadata": {},
   "outputs": [
    {
     "name": "stdout",
     "output_type": "stream",
     "text": [
      "True     100768\n",
      "False     10868\n",
      "Name: price, dtype: int64\n"
     ]
    }
   ],
   "source": [
    "print(removed_outliers.value_counts())"
   ]
  },
  {
   "cell_type": "code",
   "execution_count": 20,
   "id": "2890a221",
   "metadata": {},
   "outputs": [
    {
     "name": "stdout",
     "output_type": "stream",
     "text": [
      "Int64Index([   105,    260,    339,    342,    346,    365,    410,    413,\n",
      "               437,    439,\n",
      "            ...\n",
      "            426773, 426774, 426775, 426776, 426778, 426798, 426800, 426857,\n",
      "            426858, 426859],\n",
      "           dtype='int64', length=10868)\n"
     ]
    }
   ],
   "source": [
    "index_names = used_cars1[~removed_outliers].index # INVERT removed_outliers!!\n",
    "print(index_names)"
   ]
  },
  {
   "cell_type": "code",
   "execution_count": 21,
   "id": "8039cc62",
   "metadata": {},
   "outputs": [],
   "source": [
    "used_cars1.drop(index_names, inplace=True)"
   ]
  },
  {
   "cell_type": "code",
   "execution_count": 22,
   "id": "c2ebe1a7",
   "metadata": {},
   "outputs": [],
   "source": [
    "used_cars1 = used_cars1[['price','region','year','manufacturer','model','cylinders','fuel','odometer','title_status','transmission','drive','type','paint_color','state']]"
   ]
  },
  {
   "cell_type": "code",
   "execution_count": 27,
   "id": "2b5fc026",
   "metadata": {},
   "outputs": [
    {
     "data": {
      "image/png": "[encoded data removed]",
      "text/plain": [
       "<Figure size 432x288 with 1 Axes>"
      ]
     },
     "metadata": {
      "needs_background": "light"
     },
     "output_type": "display_data"
    }
   ],
   "source": [
    "y = used_cars1['price']\n",
    "x = used_cars1['odometer']\n",
    "plt.scatter(x, y)\n",
    "plt.xlabel('odometer')\n",
    "plt.ylabel('price')\n",
    "plt.show()"
   ]
  },
  {
   "cell_type": "code",
   "execution_count": 26,
   "id": "7e1563da",
   "metadata": {},
   "outputs": [
    {
     "data": {
      "text/plain": [
       "<seaborn.axisgrid.FacetGrid at 0x7ff5e547ba60>"
      ]
     },
     "execution_count": 26,
     "metadata": {},
     "output_type": "execute_result"
    },
    {
     "data": {
      "image/png": "[encoded data removed]",
      "text/plain": [
       "<Figure size 360x360 with 1 Axes>"
      ]
     },
     "metadata": {
      "needs_background": "light"
     },
     "output_type": "display_data"
    }
   ],
   "source": [
    "sns.catplot(x=\"drive\", y=\"price\",kind=\"bar\", palette=\"ch:.25\", data=used_cars1)"
   ]
  },
  {
   "cell_type": "code",
   "execution_count": 24,
   "id": "ba1b033e",
   "metadata": {},
   "outputs": [
    {
     "data": {
      "image/png": "[encoded data removed]",
      "text/plain": [
       "<Figure size 432x288 with 1 Axes>"
      ]
     },
     "metadata": {
      "needs_background": "light"
     },
     "output_type": "display_data"
    }
   ],
   "source": [
    "y = used_cars1['price']\n",
    "x = used_cars1['year']\n",
    "plt.scatter(x, y)\n",
    "plt.xlabel('year')\n",
    "plt.ylabel('price')\n",
    "plt.show()"
   ]
  },
  {
   "cell_type": "code",
   "execution_count": 23,
   "id": "ad9319e4",
   "metadata": {},
   "outputs": [],
   "source": [
    "le = preprocessing.LabelEncoder()"
   ]
  },
  {
   "cell_type": "code",
   "execution_count": 29,
   "id": "14859ab0",
   "metadata": {},
   "outputs": [],
   "source": [
    "used_cars1[['region','manufacturer','model','cylinders','fuel','title_status','transmission','drive'\n",
    ",'type','paint_color','state']] = used_cars1[['region','manufacturer','model','cylinders','fuel','title_status','transmission','drive','type','paint_color','state']].apply(le.fit_transform)\n",
    "\n"
   ]
  },
  {
   "cell_type": "code",
   "execution_count": 31,
   "id": "ef7ad853",
   "metadata": {},
   "outputs": [],
   "source": [
    "from sklearn.preprocessing import MinMaxScaler\n",
    "used_cars1[\"odometer\"] = np.sqrt(preprocessing.minmax_scale(used_cars1[\"odometer\"]))"
   ]
  },
  {
   "cell_type": "code",
   "execution_count": 32,
   "id": "79508d1d",
   "metadata": {},
   "outputs": [
    {
     "data": {
      "image/png": "[encoded data removed]",
      "text/plain": [
       "<Figure size 864x720 with 2 Axes>"
      ]
     },
     "metadata": {
      "needs_background": "light"
     },
     "output_type": "display_data"
    }
   ],
   "source": [
    "plt.figure(figsize=(12,10))\n",
    "cor = used_cars1.corr()\n",
    "sns.heatmap(cor, annot=True, cmap=plt.cm.Reds)\n",
    "plt.show()"
   ]
  },
  {
   "cell_type": "code",
   "execution_count": null,
   "id": "f37193f6",
   "metadata": {},
   "outputs": [],
   "source": []
  },
  {
   "cell_type": "code",
   "execution_count": 33,
   "id": "97878bf0",
   "metadata": {},
   "outputs": [],
   "source": [
    "features_p = used_cars1[[\"drive\",\"odometer\",\"cylinders\",\"fuel\",\"year\"]]\n",
    "target_p = used_cars1[[\"price\"]]"
   ]
  },
  {
   "cell_type": "code",
   "execution_count": 35,
   "id": "01d494ea",
   "metadata": {},
   "outputs": [
    {
     "data": {
      "text/html": [
       "<div>\n",
       "<style scoped>\n",
       "    .dataframe tbody tr th:only-of-type {\n",
       "        vertical-align: middle;\n",
       "    }\n",
       "\n",
       "    .dataframe tbody tr th {\n",
       "        vertical-align: top;\n",
       "    }\n",
       "\n",
       "    .dataframe thead th {\n",
       "        text-align: right;\n",
       "    }\n",
       "</style>\n",
       "<table border=\"1\" class=\"dataframe\">\n",
       "  <thead>\n",
       "    <tr style=\"text-align: right;\">\n",
       "      <th></th>\n",
       "      <th>price</th>\n",
       "      <th>region</th>\n",
       "      <th>year</th>\n",
       "      <th>manufacturer</th>\n",
       "      <th>model</th>\n",
       "      <th>cylinders</th>\n",
       "      <th>fuel</th>\n",
       "      <th>odometer</th>\n",
       "      <th>title_status</th>\n",
       "      <th>transmission</th>\n",
       "      <th>drive</th>\n",
       "      <th>type</th>\n",
       "      <th>paint_color</th>\n",
       "      <th>state</th>\n",
       "    </tr>\n",
       "  </thead>\n",
       "  <tbody>\n",
       "    <tr>\n",
       "      <th>48636</th>\n",
       "      <td>33995</td>\n",
       "      <td>285</td>\n",
       "      <td>2010.0</td>\n",
       "      <td>10</td>\n",
       "      <td>2386</td>\n",
       "      <td>6</td>\n",
       "      <td>2</td>\n",
       "      <td>0.047434</td>\n",
       "      <td>0</td>\n",
       "      <td>2</td>\n",
       "      <td>2</td>\n",
       "      <td>9</td>\n",
       "      <td>0</td>\n",
       "      <td>4</td>\n",
       "    </tr>\n",
       "    <tr>\n",
       "      <th>208069</th>\n",
       "      <td>29995</td>\n",
       "      <td>243</td>\n",
       "      <td>2017.0</td>\n",
       "      <td>7</td>\n",
       "      <td>8478</td>\n",
       "      <td>6</td>\n",
       "      <td>2</td>\n",
       "      <td>0.083606</td>\n",
       "      <td>0</td>\n",
       "      <td>0</td>\n",
       "      <td>0</td>\n",
       "      <td>8</td>\n",
       "      <td>5</td>\n",
       "      <td>22</td>\n",
       "    </tr>\n",
       "    <tr>\n",
       "      <th>370288</th>\n",
       "      <td>15500</td>\n",
       "      <td>72</td>\n",
       "      <td>2011.0</td>\n",
       "      <td>13</td>\n",
       "      <td>8189</td>\n",
       "      <td>6</td>\n",
       "      <td>2</td>\n",
       "      <td>0.121244</td>\n",
       "      <td>0</td>\n",
       "      <td>0</td>\n",
       "      <td>0</td>\n",
       "      <td>10</td>\n",
       "      <td>9</td>\n",
       "      <td>43</td>\n",
       "    </tr>\n",
       "    <tr>\n",
       "      <th>202905</th>\n",
       "      <td>4450</td>\n",
       "      <td>128</td>\n",
       "      <td>2006.0</td>\n",
       "      <td>12</td>\n",
       "      <td>4141</td>\n",
       "      <td>5</td>\n",
       "      <td>2</td>\n",
       "      <td>0.141067</td>\n",
       "      <td>0</td>\n",
       "      <td>0</td>\n",
       "      <td>2</td>\n",
       "      <td>10</td>\n",
       "      <td>10</td>\n",
       "      <td>22</td>\n",
       "    </tr>\n",
       "    <tr>\n",
       "      <th>44011</th>\n",
       "      <td>8900</td>\n",
       "      <td>262</td>\n",
       "      <td>2007.0</td>\n",
       "      <td>24</td>\n",
       "      <td>6433</td>\n",
       "      <td>3</td>\n",
       "      <td>2</td>\n",
       "      <td>0.083964</td>\n",
       "      <td>0</td>\n",
       "      <td>1</td>\n",
       "      <td>1</td>\n",
       "      <td>4</td>\n",
       "      <td>9</td>\n",
       "      <td>4</td>\n",
       "    </tr>\n",
       "  </tbody>\n",
       "</table>\n",
       "</div>"
      ],
      "text/plain": [
       "        price  region    year  manufacturer  model  cylinders  fuel  odometer  \\\n",
       "48636   33995     285  2010.0            10   2386          6     2  0.047434   \n",
       "208069  29995     243  2017.0             7   8478          6     2  0.083606   \n",
       "370288  15500      72  2011.0            13   8189          6     2  0.121244   \n",
       "202905   4450     128  2006.0            12   4141          5     2  0.141067   \n",
       "44011    8900     262  2007.0            24   6433          3     2  0.083964   \n",
       "\n",
       "        title_status  transmission  drive  type  paint_color  state  \n",
       "48636              0             2      2     9            0      4  \n",
       "208069             0             0      0     8            5     22  \n",
       "370288             0             0      0    10            9     43  \n",
       "202905             0             0      2    10           10     22  \n",
       "44011              0             1      1     4            9      4  "
      ]
     },
     "execution_count": 35,
     "metadata": {},
     "output_type": "execute_result"
    }
   ],
   "source": [
    "seed=60\n",
    "df_train, df_test= train_test_split(used_cars1, test_size=0.2, random_state=seed)\n",
    "df_train, df_val= train_test_split(df_train, test_size=0.2, random_state=seed)\n",
    "df_train.head()"
   ]
  },
  {
   "cell_type": "code",
   "execution_count": 36,
   "id": "8f47eee4",
   "metadata": {},
   "outputs": [],
   "source": [
    "X_train1 = df_train.drop(['price'], axis = 1)\n",
    "y_tran1 = df_train['price']"
   ]
  },
  {
   "cell_type": "code",
   "execution_count": 37,
   "id": "2ac726db",
   "metadata": {},
   "outputs": [],
   "source": [
    "X_val1 = df_val.drop(['price'], axis = 1)\n",
    "y_val1 = df_val['price']"
   ]
  },
  {
   "cell_type": "code",
   "execution_count": 42,
   "id": "5be0fb62",
   "metadata": {},
   "outputs": [],
   "source": [
    "from sklearn.preprocessing import StandardScaler, PolynomialFeatures\n",
    "poly = PolynomialFeatures(degree=4, include_bias=False, interaction_only=False) \n",
    "X_train1_poly = poly.fit_transform(X_train1.values)\n",
    "poly_model = LinearRegression()"
   ]
  },
  {
   "cell_type": "code",
   "execution_count": 44,
   "id": "92dc18fb",
   "metadata": {},
   "outputs": [
    {
     "name": "stdout",
     "output_type": "stream",
     "text": [
      "-0.27986926177280225\n"
     ]
    }
   ],
   "source": [
    "poly_model.fit(X_train1_poly, y_tran1)\n",
    "print(poly_model.score(X_train1_poly, y_tran1))"
   ]
  },
  {
   "cell_type": "code",
   "execution_count": 45,
   "id": "f3a2d2e4",
   "metadata": {},
   "outputs": [
    {
     "name": "stdout",
     "output_type": "stream",
     "text": [
      "Training Score: 0.5593787309587197\n"
     ]
    }
   ],
   "source": [
    "lr = LinearRegression()\n",
    "lr.fit(X_train1,y_tran1)\n",
    "\n",
    "print(f\"Training Score: {lr.score(X_train1,y_tran1)}\")"
   ]
  },
  {
   "cell_type": "code",
   "execution_count": 46,
   "id": "c5086ae5",
   "metadata": {},
   "outputs": [
    {
     "name": "stdout",
     "output_type": "stream",
     "text": [
      "Training Score: 0.5596196782055043\n"
     ]
    }
   ],
   "source": [
    "lr = LinearRegression()\n",
    "lr.fit(X_val1,y_val1)\n",
    "\n",
    "print(f\"Training Score: {lr.score(X_val1,y_val1)}\")"
   ]
  },
  {
   "cell_type": "code",
   "execution_count": 55,
   "id": "8a1ef791",
   "metadata": {},
   "outputs": [],
   "source": [
    "from sklearn.preprocessing import StandardScaler\n",
    "from sklearn.ensemble import AdaBoostRegressor\n",
    "from sklearn.neural_network import MLPRegressor\n",
    "from sklearn.linear_model import LinearRegression\n",
    "from sklearn.ensemble import RandomForestRegressor"
   ]
  },
  {
   "cell_type": "code",
   "execution_count": 59,
   "id": "0c00a89b",
   "metadata": {},
   "outputs": [
    {
     "name": "stdout",
     "output_type": "stream",
     "text": [
      "0.5473201321968184\n"
     ]
    }
   ],
   "source": [
    "abmodel = AdaBoostRegressor()\n",
    "abmodel.fit(X_train1 , y_tran1)\n",
    "print(abmodel.score(X_train1 , y_tran1))"
   ]
  },
  {
   "cell_type": "code",
   "execution_count": 60,
   "id": "c5820dc6",
   "metadata": {},
   "outputs": [
    {
     "name": "stdout",
     "output_type": "stream",
     "text": [
      "0.6017335088472701\n"
     ]
    }
   ],
   "source": [
    "abmodel = AdaBoostRegressor()\n",
    "abmodel.fit(X_val1 , y_val1)\n",
    "print(abmodel.score(X_val1 , y_val1))"
   ]
  },
  {
   "cell_type": "code",
   "execution_count": null,
   "id": "88413afa",
   "metadata": {},
   "outputs": [],
   "source": [
    "Ridg"
   ]
  },
  {
   "cell_type": "code",
   "execution_count": 61,
   "id": "c50c5b8a",
   "metadata": {},
   "outputs": [],
   "source": [
    "scaler = StandardScaler()\n",
    "\n",
    "X_train1_scaled = scaler.fit_transform(X_train1.values)\n",
    "#X_test_scaled = scaler.transform(X_test.values)\n",
    "\n",
    "red_model = Ridge(alpha=1)"
   ]
  },
  {
   "cell_type": "code",
   "execution_count": 62,
   "id": "d2e82604",
   "metadata": {},
   "outputs": [
    {
     "name": "stdout",
     "output_type": "stream",
     "text": [
      "Ridge Regression Training Score: 0.55937873\n"
     ]
    }
   ],
   "source": [
    "red_model.fit(X_train1_scaled, y_tran1)\n",
    "\n",
    "#print(f'Ridge Regression validation Score: {red_model.score(X_val_scaled, y_val):.8f}')\n",
    "print(f'Ridge Regression Training Score: {red_model.score(X_train1_scaled, y_tran1):.8f}')"
   ]
  },
  {
   "cell_type": "code",
   "execution_count": 64,
   "id": "4c122ce9",
   "metadata": {},
   "outputs": [],
   "source": [
    "scaler = StandardScaler()\n",
    "\n",
    "X_val1_scaled = scaler.fit_transform(X_val1.values)\n",
    "#X_test_scaled = scaler.transform(X_test.values)\n",
    "\n",
    "red_model = Ridge(alpha=1)"
   ]
  },
  {
   "cell_type": "code",
   "execution_count": 65,
   "id": "7bbf1c1b",
   "metadata": {},
   "outputs": [
    {
     "name": "stdout",
     "output_type": "stream",
     "text": [
      "Ridge Regression Training Score: 0.55961968\n"
     ]
    }
   ],
   "source": [
    "red_model.fit(X_val1_scaled, y_val1)\n",
    "\n",
    "#print(f'Ridge Regression validation Score: {red_model.score(X_val_scaled, y_val):.8f}')\n",
    "print(f'Ridge Regression Training Score: {red_model.score(X_val1_scaled, y_val1):.8f}')"
   ]
  },
  {
   "cell_type": "code",
   "execution_count": null,
   "id": "5dd18b7f",
   "metadata": {},
   "outputs": [],
   "source": []
  }
 ],
 "metadata": {
  "kernelspec": {
   "display_name": "Python 3",
   "language": "python",
   "name": "python3"
  },
  "language_info": {
   "codemirror_mode": {
    "name": "ipython",
    "version": 3
   },
   "file_extension": ".py",
   "mimetype": "text/x-python",
   "name": "python",
   "nbconvert_exporter": "python",
   "pygments_lexer": "ipython3",
   "version": "3.8.8"
  }
 },
 "nbformat": 4,
 "nbformat_minor": 5
}
